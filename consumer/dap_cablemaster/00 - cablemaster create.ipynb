{
 "cells": [
  {
   "cell_type": "code",
   "execution_count": 0,
   "metadata": {
    "application/vnd.databricks.v1+cell": {
     "cellMetadata": {
      "byteLimit": 2048000,
      "implicitDf": true,
      "rowLimit": 10000
     },
     "inputWidgets": {},
     "nuid": "f3cc8301-2d3c-4ec0-bdec-3a44c3a351a5",
     "showTitle": false,
     "tableResultSettingsMap": {},
     "title": ""
    }
   },
   "outputs": [],
   "source": [
    "%sql\n",
    "-- Creare le tabelle per energy_db\n",
    "CREATE TABLE IF NOT EXISTS dap_cablemaster.dap_energy.high_voltage_cables (\n",
    "    id INT,\n",
    "    cable_type STRING,\n",
    "    length_km DOUBLE,\n",
    "    voltage_rating_kv DOUBLE,\n",
    "    manufacturer STRING,\n",
    "    installation_date DATE\n",
    ");\n",
    "\n",
    "CREATE TABLE IF NOT EXISTS dap_cablemaster.dap_energy.submarine_cables (\n",
    "    id INT,\n",
    "    cable_type STRING,\n",
    "    length_km DOUBLE,\n",
    "    depth_m DOUBLE,\n",
    "    manufacturer STRING,\n",
    "    installation_date DATE\n",
    ");\n",
    "\n",
    "CREATE TABLE IF NOT EXISTS dap_cablemaster.dap_energy.renewable_energy_projects (\n",
    "    id INT,\n",
    "    project_name STRING,\n",
    "    location STRING,\n",
    "    energy_type STRING,\n",
    "    capacity_mw DOUBLE,\n",
    "    start_date DATE,\n",
    "    end_date DATE\n",
    ");\n"
   ]
  },
  {
   "cell_type": "code",
   "execution_count": 0,
   "metadata": {
    "application/vnd.databricks.v1+cell": {
     "cellMetadata": {
      "byteLimit": 2048000,
      "implicitDf": true,
      "rowLimit": 10000
     },
     "inputWidgets": {},
     "nuid": "d47015d0-ff55-43f8-a2c4-0ce47924ae3d",
     "showTitle": false,
     "tableResultSettingsMap": {},
     "title": ""
    }
   },
   "outputs": [],
   "source": [
    "%sql\n",
    "-- Creare le tabelle per telecom_db\n",
    "CREATE TABLE IF NOT EXISTS dap_cablemaster.dap_telecom.fiber_optic_cables (\n",
    "    id INT,\n",
    "    cable_type STRING,\n",
    "    length_km DOUBLE,\n",
    "    bandwidth_gbps DOUBLE,\n",
    "    manufacturer STRING,\n",
    "    installation_date DATE\n",
    ");\n",
    "\n",
    "CREATE TABLE IF NOT EXISTS dap_cablemaster.dap_telecom.network_infrastructure (\n",
    "    id INT,\n",
    "    infrastructure_type STRING,\n",
    "    location STRING,\n",
    "    capacity_gbps DOUBLE,\n",
    "    deployment_date DATE\n",
    ");\n"
   ]
  },
  {
   "cell_type": "code",
   "execution_count": 0,
   "metadata": {
    "application/vnd.databricks.v1+cell": {
     "cellMetadata": {
      "byteLimit": 2048000,
      "implicitDf": true,
      "rowLimit": 10000
     },
     "inputWidgets": {},
     "nuid": "777bab15-7d8c-40de-bff9-37acc27b7cde",
     "showTitle": false,
     "tableResultSettingsMap": {},
     "title": ""
    }
   },
   "outputs": [],
   "source": [
    "%sql\n",
    "-- Creare le tabelle per manufacturing_db\n",
    "CREATE TABLE IF NOT EXISTS dap_cablemaster.dap_manufacturing.production_lines (\n",
    "    id INT,\n",
    "    line_name STRING,\n",
    "    product_type STRING,\n",
    "    capacity_units_per_day INT,\n",
    "    location STRING,\n",
    "    operational_since DATE\n",
    ");\n",
    "\n",
    "CREATE TABLE IF NOT EXISTS dap_cablemaster.dap_manufacturing.inventory_management (\n",
    "    id INT,\n",
    "    material_name STRING,\n",
    "    quantity DOUBLE,\n",
    "    unit STRING,\n",
    "    location STRING,\n",
    "    last_updated DATE\n",
    ");\n"
   ]
  },
  {
   "cell_type": "code",
   "execution_count": 0,
   "metadata": {
    "application/vnd.databricks.v1+cell": {
     "cellMetadata": {
      "byteLimit": 2048000,
      "implicitDf": true,
      "rowLimit": 10000
     },
     "inputWidgets": {},
     "nuid": "74264e25-88a6-4911-a925-c3f700d7721b",
     "showTitle": false,
     "tableResultSettingsMap": {},
     "title": ""
    }
   },
   "outputs": [],
   "source": [
    "%sql\n",
    "-- Creare le tabelle per sales_marketing_db\n",
    "CREATE TABLE IF NOT EXISTS dap_cablemaster.dap_sales_marketing.customer_data (\n",
    "    id INT,\n",
    "    customer_name STRING,\n",
    "    contact_info STRING,\n",
    "    industry STRING,\n",
    "    region STRING,\n",
    "    last_purchase_date DATE\n",
    ");\n",
    "\n",
    "CREATE TABLE IF NOT EXISTS dap_cablemaster.dap_sales_marketing.sales_performance (\n",
    "    id INT,\n",
    "    product_name STRING,\n",
    "    sales_volume INT,\n",
    "    revenue_usd DOUBLE,\n",
    "    region STRING,\n",
    "    sales_date DATE\n",
    ");\n"
   ]
  },
  {
   "cell_type": "code",
   "execution_count": 0,
   "metadata": {
    "application/vnd.databricks.v1+cell": {
     "cellMetadata": {
      "byteLimit": 2048000,
      "implicitDf": true,
      "rowLimit": 10000
     },
     "inputWidgets": {},
     "nuid": "adde373c-a140-4119-a2af-f3acecfb5210",
     "showTitle": false,
     "tableResultSettingsMap": {},
     "title": ""
    }
   },
   "outputs": [],
   "source": [
    "%sql\n",
    "-- Creare le tabelle per finance_db\n",
    "CREATE TABLE IF NOT EXISTS dap_cablemaster.dap_finance.financial_statements (\n",
    "    id INT,\n",
    "    statement_type STRING,\n",
    "    period STRING,\n",
    "    total_revenue_usd DOUBLE,\n",
    "    total_expenses_usd DOUBLE,\n",
    "    net_profit_usd DOUBLE\n",
    ");\n",
    "\n",
    "CREATE TABLE IF NOT EXISTS dap_cablemaster.dap_finance.budget_forecasts (\n",
    "    id INT,\n",
    "    forecast_type STRING,\n",
    "    period STRING,\n",
    "    projected_revenue_usd DOUBLE,\n",
    "    projected_expenses_usd DOUBLE,\n",
    "    projected_profit_usd DOUBLE\n",
    ");\n"
   ]
  },
  {
   "cell_type": "code",
   "execution_count": 0,
   "metadata": {
    "application/vnd.databricks.v1+cell": {
     "cellMetadata": {
      "byteLimit": 2048000,
      "implicitDf": true,
      "rowLimit": 10000
     },
     "inputWidgets": {},
     "nuid": "241a7a53-867b-4eac-b74c-92f77cccf039",
     "showTitle": false,
     "tableResultSettingsMap": {},
     "title": ""
    }
   },
   "outputs": [],
   "source": [
    "%sql\n",
    "-- Creare le viste per energy_db\n",
    "CREATE VIEW IF NOT EXISTS dap_cablemaster.dap_energy.energy_projects_summary AS\n",
    "SELECT\n",
    "    project_name,\n",
    "    location,\n",
    "    energy_type,\n",
    "    capacity_mw,\n",
    "    start_date,\n",
    "    end_date\n",
    "FROM\n",
    "    dap_cablemaster.dap_energy.renewable_energy_projects;\n"
   ]
  },
  {
   "cell_type": "code",
   "execution_count": 0,
   "metadata": {
    "application/vnd.databricks.v1+cell": {
     "cellMetadata": {
      "byteLimit": 2048000,
      "implicitDf": true,
      "rowLimit": 10000
     },
     "inputWidgets": {},
     "nuid": "eec7bd11-e6eb-4c2c-a9b9-531b848cbad3",
     "showTitle": false,
     "tableResultSettingsMap": {},
     "title": ""
    }
   },
   "outputs": [],
   "source": [
    "%sql\n",
    "-- Creare le viste per telecom_db\n",
    "CREATE VIEW IF NOT EXISTS dap_cablemaster.dap_telecom.network_performance AS\n",
    "SELECT\n",
    "    infrastructure_type,\n",
    "    location,\n",
    "    capacity_gbps,\n",
    "    deployment_date\n",
    "FROM\n",
    "    dap_cablemaster.dap_telecom.network_infrastructure;\n"
   ]
  },
  {
   "cell_type": "code",
   "execution_count": 0,
   "metadata": {
    "application/vnd.databricks.v1+cell": {
     "cellMetadata": {
      "byteLimit": 2048000,
      "implicitDf": true,
      "rowLimit": 10000
     },
     "inputWidgets": {},
     "nuid": "19975770-8f9c-4ec7-88ff-34daf05eb801",
     "showTitle": false,
     "tableResultSettingsMap": {},
     "title": ""
    }
   },
   "outputs": [],
   "source": [
    "%sql\n",
    "-- Creare le viste per manufacturing_db\n",
    "CREATE VIEW IF NOT EXISTS dap_cablemaster.dap_manufacturing.production_efficiency AS\n",
    "SELECT\n",
    "    line_name,\n",
    "    product_type,\n",
    "    capacity_units_per_day,\n",
    "    location,\n",
    "    operational_since\n",
    "FROM\n",
    "    dap_cablemaster.dap_manufacturing.production_lines;\n"
   ]
  },
  {
   "cell_type": "code",
   "execution_count": 0,
   "metadata": {
    "application/vnd.databricks.v1+cell": {
     "cellMetadata": {
      "byteLimit": 2048000,
      "implicitDf": true,
      "rowLimit": 10000
     },
     "inputWidgets": {},
     "nuid": "4b9ce88b-4123-4084-a8c8-7ebb7f086aa6",
     "showTitle": false,
     "tableResultSettingsMap": {},
     "title": ""
    }
   },
   "outputs": [],
   "source": [
    "%sql\n",
    "-- Creare le viste per sales_marketing_db\n",
    "CREATE VIEW IF NOT EXISTS dap_cablemaster.dap_sales_marketing.market_trends AS\n",
    "SELECT\n",
    "    product_name,\n",
    "    SUM(sales_volume) AS total_sales_volume,\n",
    "    SUM(revenue_usd) AS total_revenue_usd,\n",
    "    region\n",
    "FROM\n",
    "    dap_cablemaster.dap_sales_marketing.sales_performance\n",
    "GROUP BY\n",
    "    product_name,\n",
    "    region;\n"
   ]
  },
  {
   "cell_type": "code",
   "execution_count": 0,
   "metadata": {
    "application/vnd.databricks.v1+cell": {
     "cellMetadata": {
      "byteLimit": 2048000,
      "implicitDf": true,
      "rowLimit": 10000
     },
     "inputWidgets": {},
     "nuid": "e7c04261-73a9-4957-9b76-e34dc4994114",
     "showTitle": false,
     "tableResultSettingsMap": {},
     "title": ""
    }
   },
   "outputs": [],
   "source": [
    "%sql\n",
    "-- Creare le viste per finance_db\n",
    "CREATE VIEW IF NOT EXISTS dap_cablemaster.dap_finance.financial_health AS\n",
    "SELECT\n",
    "    period,\n",
    "    total_revenue_usd,\n",
    "    total_expenses_usd,\n",
    "    net_profit_usd\n",
    "FROM\n",
    "    dap_cablemaster.dap_finance.financial_statements;\n"
   ]
  }
 ],
 "metadata": {
  "application/vnd.databricks.v1+notebook": {
   "computePreferences": null,
   "dashboards": [],
   "environmentMetadata": {
    "base_environment": "",
    "environment_version": "1"
   },
   "inputWidgetPreferences": null,
   "language": "python",
   "notebookMetadata": {
    "mostRecentlyExecutedCommandWithImplicitDF": {
     "commandId": 1001460733080646,
     "dataframes": [
      "_sqldf"
     ]
    },
    "pythonIndentUnit": 2
   },
   "notebookName": "00 - cablemaster create",
   "widgets": {}
  },
  "language_info": {
   "name": "python"
  }
 },
 "nbformat": 4,
 "nbformat_minor": 0
}
