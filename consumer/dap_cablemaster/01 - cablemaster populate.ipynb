{
 "cells": [
  {
   "cell_type": "code",
   "execution_count": 0,
   "metadata": {
    "application/vnd.databricks.v1+cell": {
     "cellMetadata": {
      "byteLimit": 2048000,
      "implicitDf": true,
      "rowLimit": 10000
     },
     "inputWidgets": {},
     "nuid": "2198adb9-325e-439e-981c-148678cfc0b8",
     "showTitle": false,
     "tableResultSettingsMap": {},
     "title": ""
    }
   },
   "outputs": [
    {
     "output_type": "display_data",
     "data": {
      "text/html": [
       "<style scoped>\n",
       "  .table-result-container {\n",
       "    max-height: 300px;\n",
       "    overflow: auto;\n",
       "  }\n",
       "  table, th, td {\n",
       "    border: 1px solid black;\n",
       "    border-collapse: collapse;\n",
       "  }\n",
       "  th, td {\n",
       "    padding: 5px;\n",
       "  }\n",
       "  th {\n",
       "    text-align: left;\n",
       "  }\n",
       "</style><div class='table-result-container'><table class='table-result'><thead style='background-color: white'><tr><th>num_affected_rows</th><th>num_inserted_rows</th></tr></thead><tbody><tr><td>30</td><td>30</td></tr></tbody></table></div>"
      ]
     },
     "metadata": {
      "application/vnd.databricks.v1+output": {
       "addedWidgets": {},
       "aggData": [],
       "aggError": "",
       "aggOverflow": false,
       "aggSchema": [],
       "aggSeriesLimitReached": false,
       "aggType": "",
       "arguments": {},
       "columnCustomDisplayInfos": {},
       "data": [
        [
         30,
         30
        ]
       ],
       "datasetInfos": [
        {
         "name": "_sqldf",
         "schema": {
          "fields": [
           {
            "metadata": {},
            "name": "num_affected_rows",
            "nullable": true,
            "type": "long"
           },
           {
            "metadata": {},
            "name": "num_inserted_rows",
            "nullable": true,
            "type": "long"
           }
          ],
          "type": "struct"
         },
         "tableIdentifier": null,
         "typeStr": "pyspark.sql.connect.dataframe.DataFrame"
        }
       ],
       "dbfsResultPath": null,
       "isJsonSchema": true,
       "metadata": {
        "createTempViewForImplicitDf": true,
        "dataframeName": "_sqldf",
        "executionCount": 1
       },
       "overflow": false,
       "plotOptions": {
        "customPlotOptions": {},
        "displayType": "table",
        "pivotAggregation": null,
        "pivotColumns": null,
        "xColumns": null,
        "yColumns": null
       },
       "removedWidgets": [],
       "schema": [
        {
         "metadata": "{}",
         "name": "num_affected_rows",
         "type": "\"long\""
        },
        {
         "metadata": "{}",
         "name": "num_inserted_rows",
         "type": "\"long\""
        }
       ],
       "type": "table"
      }
     },
     "output_type": "display_data"
    }
   ],
   "source": [
    "%sql\n",
    "INSERT INTO cablemaster.energy_db.high_voltage_cables (id, cable_type, length_km, voltage_rating_kv, manufacturer, installation_date)\n",
    "VALUES\n",
    "    (1, 'HV Cable A', 101, 110, 'Cablemaster', '2021-05-10'),\n",
    "    (2, 'HV Cable B', 150, 220, 'Cablemaster', '2020-06-15'),\n",
    "    (3, 'HV Cable C', 200, 330, 'Cablemaster', '2019-07-20'),\n",
    "    (4, 'HV Cable D', 180, 440, 'Cablemaster', '2022-08-25'),\n",
    "    (5, 'HV Cable E', 220, 500, 'Cablemaster', '2021-09-30'),\n",
    "    (6, 'HV Cable F', 160, 275, 'Cablemaster', '2020-10-05'),\n",
    "    (7, 'HV Cable G', 170, 320, 'Cablemaster', '2021-11-10'),\n",
    "    (8, 'HV Cable H', 140, 420, 'Cablemaster', '2019-12-15'),\n",
    "    (9, 'HV Cable I', 130, 515, 'Cablemaster', '2020-01-20'),\n",
    "    (10, 'HV Cable J', 120, 290, 'Cablemaster', '2021-02-25'),\n",
    "    (11, 'HV Cable K', 210, 330, 'Cablemaster', '2019-03-30'),\n",
    "    (12, 'HV Cable L', 220, 340, 'Cablemaster', '2022-04-05'),\n",
    "    (13, 'HV Cable M', 230, 310, 'Cablemaster', '2020-05-10'),\n",
    "    (14, 'HV Cable N', 240, 305, 'Cablemaster', '2021-06-15'),\n",
    "    (15, 'HV Cable O', 250, 320, 'Cablemaster', '2019-07-20'),\n",
    "    (16, 'HV Cable P', 260, 410, 'Cablemaster', '2020-08-25'),\n",
    "    (17, 'HV Cable Q', 270, 450, 'Cablemaster', '2021-09-30'),\n",
    "    (18, 'HV Cable R', 280, 340, 'Cablemaster', '2020-10-05'),\n",
    "    (19, 'HV Cable S', 290, 320, 'Cablemaster', '2021-11-10'),\n",
    "    (20, 'HV Cable T', 300, 450, 'Cablemaster', '2019-12-15'),\n",
    "    (21, 'HV Cable U', 310, 400, 'Cablemaster', '2020-01-20'),\n",
    "    (22, 'HV Cable V', 320, 350, 'Cablemaster', '2021-02-25'),\n",
    "    (23, 'HV Cable W', 330, 290, 'Cablemaster', '2019-03-30'),\n",
    "    (24, 'HV Cable X', 340, 300, 'Cablemaster', '2022-04-05'),\n",
    "    (25, 'HV Cable Y', 350, 310, 'Cablemaster', '2020-05-10'),\n",
    "    (26, 'HV Cable Z', 120, 330, 'Cablemaster', '2022-04-18'),\n",
    "    (27, 'HV Cable AA', 360, 410, 'Cablemaster', '2021-06-25'),\n",
    "    (28, 'HV Cable AB', 370, 400, 'Cablemaster', '2020-07-30'),\n",
    "    (29, 'HV Cable AC', 380, 370, 'Cablemaster', '2021-08-05'),\n",
    "    (30, 'HV Cable AD', 390, 340, 'Cablemaster', '2019-09-10');\n"
   ]
  },
  {
   "cell_type": "code",
   "execution_count": 0,
   "metadata": {
    "application/vnd.databricks.v1+cell": {
     "cellMetadata": {
      "byteLimit": 2048000,
      "implicitDf": true,
      "rowLimit": 10000
     },
     "inputWidgets": {},
     "nuid": "d868a72b-3fbe-46e0-a1a1-c8a2155117bf",
     "showTitle": false,
     "tableResultSettingsMap": {},
     "title": ""
    }
   },
   "outputs": [
    {
     "output_type": "display_data",
     "data": {
      "text/html": [
       "<style scoped>\n",
       "  .table-result-container {\n",
       "    max-height: 300px;\n",
       "    overflow: auto;\n",
       "  }\n",
       "  table, th, td {\n",
       "    border: 1px solid black;\n",
       "    border-collapse: collapse;\n",
       "  }\n",
       "  th, td {\n",
       "    padding: 5px;\n",
       "  }\n",
       "  th {\n",
       "    text-align: left;\n",
       "  }\n",
       "</style><div class='table-result-container'><table class='table-result'><thead style='background-color: white'><tr><th>id</th><th>cable_type</th><th>length_km</th><th>voltage_rating_kv</th><th>manufacturer</th><th>installation_date</th></tr></thead><tbody><tr><td>1</td><td>HV Cable A</td><td>101.0</td><td>110.0</td><td>Cablemaster</td><td>2021-05-10</td></tr><tr><td>2</td><td>HV Cable B</td><td>150.0</td><td>220.0</td><td>Cablemaster</td><td>2020-06-15</td></tr><tr><td>3</td><td>HV Cable C</td><td>200.0</td><td>330.0</td><td>Cablemaster</td><td>2019-07-20</td></tr><tr><td>4</td><td>HV Cable D</td><td>180.0</td><td>440.0</td><td>Cablemaster</td><td>2022-08-25</td></tr><tr><td>5</td><td>HV Cable E</td><td>220.0</td><td>500.0</td><td>Cablemaster</td><td>2021-09-30</td></tr><tr><td>6</td><td>HV Cable F</td><td>160.0</td><td>275.0</td><td>Cablemaster</td><td>2020-10-05</td></tr><tr><td>7</td><td>HV Cable G</td><td>170.0</td><td>320.0</td><td>Cablemaster</td><td>2021-11-10</td></tr><tr><td>8</td><td>HV Cable H</td><td>140.0</td><td>420.0</td><td>Cablemaster</td><td>2019-12-15</td></tr><tr><td>9</td><td>HV Cable I</td><td>130.0</td><td>515.0</td><td>Cablemaster</td><td>2020-01-20</td></tr><tr><td>10</td><td>HV Cable J</td><td>120.0</td><td>290.0</td><td>Cablemaster</td><td>2021-02-25</td></tr><tr><td>11</td><td>HV Cable K</td><td>210.0</td><td>330.0</td><td>Cablemaster</td><td>2019-03-30</td></tr><tr><td>12</td><td>HV Cable L</td><td>220.0</td><td>340.0</td><td>Cablemaster</td><td>2022-04-05</td></tr><tr><td>13</td><td>HV Cable M</td><td>230.0</td><td>310.0</td><td>Cablemaster</td><td>2020-05-10</td></tr><tr><td>14</td><td>HV Cable N</td><td>240.0</td><td>305.0</td><td>Cablemaster</td><td>2021-06-15</td></tr><tr><td>15</td><td>HV Cable O</td><td>250.0</td><td>320.0</td><td>Cablemaster</td><td>2019-07-20</td></tr><tr><td>16</td><td>HV Cable P</td><td>260.0</td><td>410.0</td><td>Cablemaster</td><td>2020-08-25</td></tr><tr><td>17</td><td>HV Cable Q</td><td>270.0</td><td>450.0</td><td>Cablemaster</td><td>2021-09-30</td></tr><tr><td>18</td><td>HV Cable R</td><td>280.0</td><td>340.0</td><td>Cablemaster</td><td>2020-10-05</td></tr><tr><td>19</td><td>HV Cable S</td><td>290.0</td><td>320.0</td><td>Cablemaster</td><td>2021-11-10</td></tr><tr><td>20</td><td>HV Cable T</td><td>300.0</td><td>450.0</td><td>Cablemaster</td><td>2019-12-15</td></tr><tr><td>21</td><td>HV Cable U</td><td>310.0</td><td>400.0</td><td>Cablemaster</td><td>2020-01-20</td></tr><tr><td>22</td><td>HV Cable V</td><td>320.0</td><td>350.0</td><td>Cablemaster</td><td>2021-02-25</td></tr><tr><td>23</td><td>HV Cable W</td><td>330.0</td><td>290.0</td><td>Cablemaster</td><td>2019-03-30</td></tr><tr><td>24</td><td>HV Cable X</td><td>340.0</td><td>300.0</td><td>Cablemaster</td><td>2022-04-05</td></tr><tr><td>25</td><td>HV Cable Y</td><td>350.0</td><td>310.0</td><td>Cablemaster</td><td>2020-05-10</td></tr><tr><td>26</td><td>HV Cable Z</td><td>120.0</td><td>330.0</td><td>Cablemaster</td><td>2022-04-18</td></tr><tr><td>27</td><td>HV Cable AA</td><td>360.0</td><td>410.0</td><td>Cablemaster</td><td>2021-06-25</td></tr><tr><td>28</td><td>HV Cable AB</td><td>370.0</td><td>400.0</td><td>Cablemaster</td><td>2020-07-30</td></tr><tr><td>29</td><td>HV Cable AC</td><td>380.0</td><td>370.0</td><td>Cablemaster</td><td>2021-08-05</td></tr><tr><td>30</td><td>HV Cable AD</td><td>390.0</td><td>340.0</td><td>Cablemaster</td><td>2019-09-10</td></tr></tbody></table></div>"
      ]
     },
     "metadata": {
      "application/vnd.databricks.v1+output": {
       "addedWidgets": {},
       "aggData": [],
       "aggError": "",
       "aggOverflow": false,
       "aggSchema": [],
       "aggSeriesLimitReached": false,
       "aggType": "",
       "arguments": {},
       "columnCustomDisplayInfos": {},
       "data": [
        [
         1,
         "HV Cable A",
         101.0,
         110.0,
         "Cablemaster",
         "2021-05-10"
        ],
        [
         2,
         "HV Cable B",
         150.0,
         220.0,
         "Cablemaster",
         "2020-06-15"
        ],
        [
         3,
         "HV Cable C",
         200.0,
         330.0,
         "Cablemaster",
         "2019-07-20"
        ],
        [
         4,
         "HV Cable D",
         180.0,
         440.0,
         "Cablemaster",
         "2022-08-25"
        ],
        [
         5,
         "HV Cable E",
         220.0,
         500.0,
         "Cablemaster",
         "2021-09-30"
        ],
        [
         6,
         "HV Cable F",
         160.0,
         275.0,
         "Cablemaster",
         "2020-10-05"
        ],
        [
         7,
         "HV Cable G",
         170.0,
         320.0,
         "Cablemaster",
         "2021-11-10"
        ],
        [
         8,
         "HV Cable H",
         140.0,
         420.0,
         "Cablemaster",
         "2019-12-15"
        ],
        [
         9,
         "HV Cable I",
         130.0,
         515.0,
         "Cablemaster",
         "2020-01-20"
        ],
        [
         10,
         "HV Cable J",
         120.0,
         290.0,
         "Cablemaster",
         "2021-02-25"
        ],
        [
         11,
         "HV Cable K",
         210.0,
         330.0,
         "Cablemaster",
         "2019-03-30"
        ],
        [
         12,
         "HV Cable L",
         220.0,
         340.0,
         "Cablemaster",
         "2022-04-05"
        ],
        [
         13,
         "HV Cable M",
         230.0,
         310.0,
         "Cablemaster",
         "2020-05-10"
        ],
        [
         14,
         "HV Cable N",
         240.0,
         305.0,
         "Cablemaster",
         "2021-06-15"
        ],
        [
         15,
         "HV Cable O",
         250.0,
         320.0,
         "Cablemaster",
         "2019-07-20"
        ],
        [
         16,
         "HV Cable P",
         260.0,
         410.0,
         "Cablemaster",
         "2020-08-25"
        ],
        [
         17,
         "HV Cable Q",
         270.0,
         450.0,
         "Cablemaster",
         "2021-09-30"
        ],
        [
         18,
         "HV Cable R",
         280.0,
         340.0,
         "Cablemaster",
         "2020-10-05"
        ],
        [
         19,
         "HV Cable S",
         290.0,
         320.0,
         "Cablemaster",
         "2021-11-10"
        ],
        [
         20,
         "HV Cable T",
         300.0,
         450.0,
         "Cablemaster",
         "2019-12-15"
        ],
        [
         21,
         "HV Cable U",
         310.0,
         400.0,
         "Cablemaster",
         "2020-01-20"
        ],
        [
         22,
         "HV Cable V",
         320.0,
         350.0,
         "Cablemaster",
         "2021-02-25"
        ],
        [
         23,
         "HV Cable W",
         330.0,
         290.0,
         "Cablemaster",
         "2019-03-30"
        ],
        [
         24,
         "HV Cable X",
         340.0,
         300.0,
         "Cablemaster",
         "2022-04-05"
        ],
        [
         25,
         "HV Cable Y",
         350.0,
         310.0,
         "Cablemaster",
         "2020-05-10"
        ],
        [
         26,
         "HV Cable Z",
         120.0,
         330.0,
         "Cablemaster",
         "2022-04-18"
        ],
        [
         27,
         "HV Cable AA",
         360.0,
         410.0,
         "Cablemaster",
         "2021-06-25"
        ],
        [
         28,
         "HV Cable AB",
         370.0,
         400.0,
         "Cablemaster",
         "2020-07-30"
        ],
        [
         29,
         "HV Cable AC",
         380.0,
         370.0,
         "Cablemaster",
         "2021-08-05"
        ],
        [
         30,
         "HV Cable AD",
         390.0,
         340.0,
         "Cablemaster",
         "2019-09-10"
        ]
       ],
       "datasetInfos": [
        {
         "name": "_sqldf",
         "schema": {
          "fields": [
           {
            "metadata": {},
            "name": "id",
            "nullable": true,
            "type": "integer"
           },
           {
            "metadata": {},
            "name": "cable_type",
            "nullable": true,
            "type": "string"
           },
           {
            "metadata": {},
            "name": "length_km",
            "nullable": true,
            "type": "double"
           },
           {
            "metadata": {},
            "name": "voltage_rating_kv",
            "nullable": true,
            "type": "double"
           },
           {
            "metadata": {},
            "name": "manufacturer",
            "nullable": true,
            "type": "string"
           },
           {
            "metadata": {},
            "name": "installation_date",
            "nullable": true,
            "type": "date"
           }
          ],
          "type": "struct"
         },
         "tableIdentifier": null,
         "typeStr": "pyspark.sql.connect.dataframe.DataFrame"
        }
       ],
       "dbfsResultPath": null,
       "isJsonSchema": true,
       "metadata": {
        "createTempViewForImplicitDf": true,
        "dataframeName": "_sqldf",
        "executionCount": 2
       },
       "overflow": false,
       "plotOptions": {
        "customPlotOptions": {},
        "displayType": "table",
        "pivotAggregation": null,
        "pivotColumns": null,
        "xColumns": null,
        "yColumns": null
       },
       "removedWidgets": [],
       "schema": [
        {
         "metadata": "{}",
         "name": "id",
         "type": "\"integer\""
        },
        {
         "metadata": "{}",
         "name": "cable_type",
         "type": "\"string\""
        },
        {
         "metadata": "{}",
         "name": "length_km",
         "type": "\"double\""
        },
        {
         "metadata": "{}",
         "name": "voltage_rating_kv",
         "type": "\"double\""
        },
        {
         "metadata": "{}",
         "name": "manufacturer",
         "type": "\"string\""
        },
        {
         "metadata": "{}",
         "name": "installation_date",
         "type": "\"date\""
        }
       ],
       "type": "table"
      }
     },
     "output_type": "display_data"
    }
   ],
   "source": [
    "%sql\n",
    "select * from cablemaster.energy_db.high_voltage_cables;"
   ]
  },
  {
   "cell_type": "code",
   "execution_count": 0,
   "metadata": {
    "application/vnd.databricks.v1+cell": {
     "cellMetadata": {
      "byteLimit": 2048000,
      "implicitDf": true,
      "rowLimit": 10000
     },
     "inputWidgets": {},
     "nuid": "eccc0707-7543-4e03-9be5-f2faf70dc4b0",
     "showTitle": false,
     "tableResultSettingsMap": {},
     "title": ""
    }
   },
   "outputs": [
    {
     "output_type": "display_data",
     "data": {
      "text/html": [
       "<style scoped>\n",
       "  .table-result-container {\n",
       "    max-height: 300px;\n",
       "    overflow: auto;\n",
       "  }\n",
       "  table, th, td {\n",
       "    border: 1px solid black;\n",
       "    border-collapse: collapse;\n",
       "  }\n",
       "  th, td {\n",
       "    padding: 5px;\n",
       "  }\n",
       "  th {\n",
       "    text-align: left;\n",
       "  }\n",
       "</style><div class='table-result-container'><table class='table-result'><thead style='background-color: white'><tr><th>num_affected_rows</th><th>num_inserted_rows</th></tr></thead><tbody><tr><td>30</td><td>30</td></tr></tbody></table></div>"
      ]
     },
     "metadata": {
      "application/vnd.databricks.v1+output": {
       "addedWidgets": {},
       "aggData": [],
       "aggError": "",
       "aggOverflow": false,
       "aggSchema": [],
       "aggSeriesLimitReached": false,
       "aggType": "",
       "arguments": {},
       "columnCustomDisplayInfos": {},
       "data": [
        [
         30,
         30
        ]
       ],
       "datasetInfos": [
        {
         "name": "_sqldf",
         "schema": {
          "fields": [
           {
            "metadata": {},
            "name": "num_affected_rows",
            "nullable": true,
            "type": "long"
           },
           {
            "metadata": {},
            "name": "num_inserted_rows",
            "nullable": true,
            "type": "long"
           }
          ],
          "type": "struct"
         },
         "tableIdentifier": null,
         "typeStr": "pyspark.sql.connect.dataframe.DataFrame"
        }
       ],
       "dbfsResultPath": null,
       "isJsonSchema": true,
       "metadata": {
        "createTempViewForImplicitDf": true,
        "dataframeName": "_sqldf",
        "executionCount": 3
       },
       "overflow": false,
       "plotOptions": {
        "customPlotOptions": {},
        "displayType": "table",
        "pivotAggregation": null,
        "pivotColumns": null,
        "xColumns": null,
        "yColumns": null
       },
       "removedWidgets": [],
       "schema": [
        {
         "metadata": "{}",
         "name": "num_affected_rows",
         "type": "\"long\""
        },
        {
         "metadata": "{}",
         "name": "num_inserted_rows",
         "type": "\"long\""
        }
       ],
       "type": "table"
      }
     },
     "output_type": "display_data"
    }
   ],
   "source": [
    "%sql\n",
    "INSERT INTO cablemaster.energy_db.submarine_cables (id, cable_type, length_km, depth_m, manufacturer, installation_date)\n",
    "VALUES\n",
    "    (1, 'Submarine A', 200, 1000, 'Cablemaster', '2019-07-12'),\n",
    "    (2, 'Submarine B', 250, 1500, 'Cablemaster', '2021-08-22'),\n",
    "    (3, 'Submarine C', 220, 1200, 'Cablemaster', '2020-09-15'),\n",
    "    (4, 'Submarine D', 240, 1400, 'Cablemaster', '2019-10-18'),\n",
    "    (5, 'Submarine E', 260, 1300, 'Cablemaster', '2021-11-20'),\n",
    "    (6, 'Submarine F', 280, 1100, 'Cablemaster', '2020-12-25'),\n",
    "    (7, 'Submarine G', 300, 1000, 'Cablemaster', '2021-01-30'),\n",
    "    (8, 'Submarine H', 320, 1400, 'Cablemaster', '2019-02-15'),\n",
    "    (9, 'Submarine I', 340, 1500, 'Cablemaster', '2020-03-20'),\n",
    "    (10, 'Submarine J', 360, 1300, 'Cablemaster', '2021-04-25'),\n",
    "    (11, 'Submarine K', 380, 1200, 'Cablemaster', '2019-05-10'),\n",
    "    (12, 'Submarine L', 400, 1400, 'Cablemaster', '2020-06-15'),\n",
    "    (13, 'Submarine M', 420, 1500, 'Cablemaster', '2021-07-20'),\n",
    "    (14, 'Submarine N', 440, 1300, 'Cablemaster', '2019-08-25'),\n",
    "    (15, 'Submarine O', 460, 1200, 'Cablemaster', '2020-09-30'),\n",
    "    (16, 'Submarine P', 480, 1000, 'Cablemaster', '2021-10-05'),\n",
    "    (17, 'Submarine Q', 500, 1100, 'Cablemaster', '2019-11-10'),\n",
    "    (18, 'Submarine R', 520, 1200, 'Cablemaster', '2020-12-15'),\n",
    "    (19, 'Submarine S', 540, 1500, 'Cablemaster', '2021-01-20'),\n",
    "    (20, 'Submarine T', 560, 1400, 'Cablemaster', '2019-02-25'),\n",
    "    (21, 'Submarine U', 580, 1300, 'Cablemaster', '2020-03-30'),\n",
    "    (22, 'Submarine V', 600, 1100, 'Cablemaster', '2021-04-05'),\n",
    "    (23, 'Submarine W', 620, 1000, 'Cablemaster', '2019-05-10'),\n",
    "    (24, 'Submarine X', 640, 1400, 'Cablemaster', '2020-06-15'),\n",
    "    (25, 'Submarine Y', 660, 1500, 'Cablemaster', '2021-07-20'),\n",
    "    (26, 'Submarine Z', 220, 900, 'Cablemaster', '2023-01-30'),\n",
    "    (27, 'Submarine AA', 680, 1300, 'Cablemaster', '2019-08-25'),\n",
    "    (28, 'Submarine AB', 700, 1200, 'Cablemaster', '2020-09-30'),\n",
    "    (29, 'Submarine AC', 720, 1000, 'Cablemaster', '2021-10-05'),\n",
    "    (30, 'Submarine AD', 740, 1100, 'Cablemaster', '2022-11-10');\n"
   ]
  },
  {
   "cell_type": "code",
   "execution_count": 0,
   "metadata": {
    "application/vnd.databricks.v1+cell": {
     "cellMetadata": {
      "byteLimit": 2048000,
      "implicitDf": true,
      "rowLimit": 10000
     },
     "inputWidgets": {},
     "nuid": "450f0da1-44a0-4a26-abb7-3033814d0813",
     "showTitle": false,
     "tableResultSettingsMap": {},
     "title": ""
    }
   },
   "outputs": [
    {
     "output_type": "display_data",
     "data": {
      "text/html": [
       "<style scoped>\n",
       "  .table-result-container {\n",
       "    max-height: 300px;\n",
       "    overflow: auto;\n",
       "  }\n",
       "  table, th, td {\n",
       "    border: 1px solid black;\n",
       "    border-collapse: collapse;\n",
       "  }\n",
       "  th, td {\n",
       "    padding: 5px;\n",
       "  }\n",
       "  th {\n",
       "    text-align: left;\n",
       "  }\n",
       "</style><div class='table-result-container'><table class='table-result'><thead style='background-color: white'><tr><th>num_affected_rows</th><th>num_inserted_rows</th></tr></thead><tbody><tr><td>30</td><td>30</td></tr></tbody></table></div>"
      ]
     },
     "metadata": {
      "application/vnd.databricks.v1+output": {
       "addedWidgets": {},
       "aggData": [],
       "aggError": "",
       "aggOverflow": false,
       "aggSchema": [],
       "aggSeriesLimitReached": false,
       "aggType": "",
       "arguments": {},
       "columnCustomDisplayInfos": {},
       "data": [
        [
         30,
         30
        ]
       ],
       "datasetInfos": [
        {
         "name": "_sqldf",
         "schema": {
          "fields": [
           {
            "metadata": {},
            "name": "num_affected_rows",
            "nullable": true,
            "type": "long"
           },
           {
            "metadata": {},
            "name": "num_inserted_rows",
            "nullable": true,
            "type": "long"
           }
          ],
          "type": "struct"
         },
         "tableIdentifier": null,
         "typeStr": "pyspark.sql.connect.dataframe.DataFrame"
        }
       ],
       "dbfsResultPath": null,
       "isJsonSchema": true,
       "metadata": {
        "createTempViewForImplicitDf": true,
        "dataframeName": "_sqldf",
        "executionCount": 4
       },
       "overflow": false,
       "plotOptions": {
        "customPlotOptions": {},
        "displayType": "table",
        "pivotAggregation": null,
        "pivotColumns": null,
        "xColumns": null,
        "yColumns": null
       },
       "removedWidgets": [],
       "schema": [
        {
         "metadata": "{}",
         "name": "num_affected_rows",
         "type": "\"long\""
        },
        {
         "metadata": "{}",
         "name": "num_inserted_rows",
         "type": "\"long\""
        }
       ],
       "type": "table"
      }
     },
     "output_type": "display_data"
    }
   ],
   "source": [
    "%sql\n",
    "INSERT INTO cablemaster.energy_db.renewable_energy_projects (id, project_name, location, energy_type, capacity_mw, start_date, end_date)\n",
    "VALUES\n",
    "    (1, 'Wind Farm A', 'North Sea', 'Wind', 500, '2021-01-01', '2022-12-31'),\n",
    "    (2, 'Solar Park B', 'California', 'Solar', 200, '2020-03-15', '2023-06-30'),\n",
    "    (3, 'Hydro Plant C', 'Amazon River', 'Hydro', 300, '2019-06-20', '2025-01-01'),\n",
    "    (4, 'Geothermal Project D', 'Iceland', 'Geothermal', 150, '2022-08-10', '2024-11-30'),\n",
    "    (5, 'Biomass Facility E', 'Brazil', 'Biomass', 100, '2021-10-05', '2023-09-15'),\n",
    "    (6, 'Wind Farm F', 'Irish Sea', 'Wind', 400, '2020-12-01', '2024-03-31'),\n",
    "    (7, 'Solar Park G', 'Nevada', 'Solar', 250, '2019-02-28', '2023-08-15'),\n",
    "    (8, 'Hydro Plant H', 'Amazon River', 'Hydro', 350, '2022-04-15', '2025-12-31'),\n",
    "    (9, 'Geothermal Project I', 'Italy', 'Geothermal', 180, '2020-06-20', '2024-10-01'),\n",
    "    (10, 'Biomass Facility J', 'Mexico', 'Biomass', 120, '2021-08-10', '2023-07-15'),\n",
    "    (11, 'Wind Farm K', 'North Sea', 'Wind', 600, '2019-10-15', '2024-04-30'),\n",
    "    (12, 'Solar Park L', 'Arizona', 'Solar', 300, '2020-11-20', '2023-09-30'),\n",
    "    (13, 'Hydro Plant M', 'Amazon River', 'Hydro', 400, '2022-01-25', '2025-11-15'),\n",
    "    (14, 'Geothermal Project N', 'New Zealand', 'Geothermal', 200, '2019-03-30', '2024-08-31'),\n",
    "    (15, 'Biomass Facility O', 'Canada', 'Biomass', 150, '2020-05-05', '2023-10-15'),\n",
    "    (16, 'Wind Farm P', 'Irish Sea', 'Wind', 450, '2021-06-10', '2024-05-31'),\n",
    "    (17, 'Solar Park Q', 'California', 'Solar', 280, '2019-07-15', '2023-07-20'),\n",
    "    (18, 'Hydro Plant R', 'Amazon River', 'Hydro', 380, '2022-09-20', '2025-06-30'),\n",
    "    (19, 'Geothermal Project S', 'Iceland', 'Geothermal', 220, '2020-11-25', '2024-09-15'),\n",
    "    (20, 'Biomass Facility T', 'Brazil', 'Biomass', 180, '2021-01-30', '2023-08-31'),\n",
    "    (21, 'Wind Farm U', 'North Sea', 'Wind', 700, '2019-04-05', '2024-03-15'),\n",
    "    (22, 'Solar Park V', 'Nevada', 'Solar', 320, '2020-05-10', '2023-11-30'),\n",
    "    (23, 'Hydro Plant W', 'Amazon River', 'Hydro', 420, '2021-06-15', '2025-10-01'),\n",
    "    (24, 'Geothermal Project X', 'Italy', 'Geothermal', 250, '2019-07-20', '2024-07-15'),\n",
    "    (25, 'Biomass Facility Y', 'Mexico', 'Biomass', 200, '2020-08-25', '2023-09-30'),\n",
    "    (26, 'Wind Farm Z', 'Irish Sea', 'Wind', 500, '2021-09-30', '2024-04-05'),\n",
    "    (27, 'Solar Park AA', 'Arizona', 'Solar', 350, '2019-11-05', '2023-10-20'),\n",
    "    (28, 'Hydro Plant AB', 'Amazon River', 'Hydro', 450, '2022-12-10', '2025-05-25'),\n",
    "    (29, 'Geothermal Project AC', 'New Zealand', 'Geothermal', 280, '2020-01-15', '2024-08-10'),\n",
    "    (30, 'Biomass Facility AD', 'Canada', 'Biomass', 220, '2021-02-20', '2023-11-15');\n"
   ]
  },
  {
   "cell_type": "code",
   "execution_count": 0,
   "metadata": {
    "application/vnd.databricks.v1+cell": {
     "cellMetadata": {
      "byteLimit": 2048000,
      "implicitDf": true,
      "rowLimit": 10000
     },
     "inputWidgets": {},
     "nuid": "5fbc040b-c963-4cd4-99b7-6299c09db1c9",
     "showTitle": false,
     "tableResultSettingsMap": {},
     "title": ""
    }
   },
   "outputs": [
    {
     "output_type": "display_data",
     "data": {
      "text/html": [
       "<style scoped>\n",
       "  .table-result-container {\n",
       "    max-height: 300px;\n",
       "    overflow: auto;\n",
       "  }\n",
       "  table, th, td {\n",
       "    border: 1px solid black;\n",
       "    border-collapse: collapse;\n",
       "  }\n",
       "  th, td {\n",
       "    padding: 5px;\n",
       "  }\n",
       "  th {\n",
       "    text-align: left;\n",
       "  }\n",
       "</style><div class='table-result-container'><table class='table-result'><thead style='background-color: white'><tr><th>num_affected_rows</th><th>num_inserted_rows</th></tr></thead><tbody><tr><td>30</td><td>30</td></tr></tbody></table></div>"
      ]
     },
     "metadata": {
      "application/vnd.databricks.v1+output": {
       "addedWidgets": {},
       "aggData": [],
       "aggError": "",
       "aggOverflow": false,
       "aggSchema": [],
       "aggSeriesLimitReached": false,
       "aggType": "",
       "arguments": {},
       "columnCustomDisplayInfos": {},
       "data": [
        [
         30,
         30
        ]
       ],
       "datasetInfos": [
        {
         "name": "_sqldf",
         "schema": {
          "fields": [
           {
            "metadata": {},
            "name": "num_affected_rows",
            "nullable": true,
            "type": "long"
           },
           {
            "metadata": {},
            "name": "num_inserted_rows",
            "nullable": true,
            "type": "long"
           }
          ],
          "type": "struct"
         },
         "tableIdentifier": null,
         "typeStr": "pyspark.sql.connect.dataframe.DataFrame"
        }
       ],
       "dbfsResultPath": null,
       "isJsonSchema": true,
       "metadata": {
        "createTempViewForImplicitDf": true,
        "dataframeName": "_sqldf",
        "executionCount": 5
       },
       "overflow": false,
       "plotOptions": {
        "customPlotOptions": {},
        "displayType": "table",
        "pivotAggregation": null,
        "pivotColumns": null,
        "xColumns": null,
        "yColumns": null
       },
       "removedWidgets": [],
       "schema": [
        {
         "metadata": "{}",
         "name": "num_affected_rows",
         "type": "\"long\""
        },
        {
         "metadata": "{}",
         "name": "num_inserted_rows",
         "type": "\"long\""
        }
       ],
       "type": "table"
      }
     },
     "output_type": "display_data"
    }
   ],
   "source": [
    "%sql\n",
    "INSERT INTO cablemaster.telecom_db.fiber_optic_cables (id, cable_type, length_km, bandwidth_gbps, manufacturer, installation_date)\n",
    "VALUES\n",
    "    (1, 'Fiber Cable A', 300, 100, 'Cablemaster', '2020-01-01'),\n",
    "    (2, 'Fiber Cable B', 350, 200, 'Cablemaster', '2021-02-15'),\n",
    "    (3, 'Fiber Cable C', 320, 150, 'Cablemaster', '2019-03-20'),\n",
    "    (4, 'Fiber Cable D', 340, 180, 'Cablemaster', '2022-04-25'),\n",
    "    (5, 'Fiber Cable E', 360, 250, 'Cablemaster', '2021-05-30'),\n",
    "    (6, 'Fiber Cable F', 380, 300, 'Cablemaster', '2020-06-05'),\n",
    "    (7, 'Fiber Cable G', 400, 180, 'Cablemaster', '2021-07-10'),\n",
    "    (8, 'Fiber Cable H', 420, 200, 'Cablemaster', '2019-08-15'),\n",
    "    (9, 'Fiber Cable I', 440, 250, 'Cablemaster', '2020-09-20'),\n",
    "    (10, 'Fiber Cable J', 460, 300, 'Cablemaster', '2021-10-25'),\n",
    "    (11, 'Fiber Cable K', 480, 150, 'Cablemaster', '2019-11-30'),\n",
    "    (12, 'Fiber Cable L', 500, 180, 'Cablemaster', '2020-12-05'),\n",
    "    (13, 'Fiber Cable M', 520, 200, 'Cablemaster', '2022-01-10'),\n",
    "    (14, 'Fiber Cable N', 540, 250, 'Cablemaster', '2020-02-15'),\n",
    "    (15, 'Fiber Cable O', 560, 300, 'Cablemaster', '2021-03-20'),\n",
    "    (16, 'Fiber Cable P', 580, 150, 'Cablemaster', '2019-04-25'),\n",
    "    (17, 'Fiber Cable Q', 600, 180, 'Cablemaster', '2020-05-30'),\n",
    "    (18, 'Fiber Cable R', 620, 200, 'Cablemaster', '2021-07-05'),\n",
    "    (19, 'Fiber Cable S', 640, 250, 'Cablemaster', '2019-08-10'),\n",
    "    (20, 'Fiber Cable T', 660, 300, 'Cablemaster', '2020-09-15'),\n",
    "    (21, 'Fiber Cable U', 680, 150, 'Cablemaster', '2021-10-20'),\n",
    "    (22, 'Fiber Cable V', 700, 180, 'Cablemaster', '2019-11-25'),\n",
    "    (23, 'Fiber Cable W', 720, 200, 'Cablemaster', '2020-12-30'),\n",
    "    (24, 'Fiber Cable X', 740, 250, 'Cablemaster', '2022-02-05'),\n",
    "    (25, 'Fiber Cable Y', 760, 300, 'Cablemaster', '2020-03-10'),\n",
    "    (26, 'Fiber Cable Z', 780, 150, 'Cablemaster', '2022-04-15'),\n",
    "    (27, 'Fiber Cable AA', 800, 180, 'Cablemaster', '2020-05-20'),\n",
    "    (28, 'Fiber Cable AB', 820, 200, 'Cablemaster', '2021-06-25'),\n",
    "    (29, 'Fiber Cable AC', 840, 250, 'Cablemaster', '2019-07-30'),\n",
    "    (30, 'Fiber Cable AD', 860, 300, 'Cablemaster', '2020-08-05');\n"
   ]
  },
  {
   "cell_type": "code",
   "execution_count": 0,
   "metadata": {
    "application/vnd.databricks.v1+cell": {
     "cellMetadata": {
      "byteLimit": 2048000,
      "implicitDf": true,
      "rowLimit": 10000
     },
     "inputWidgets": {},
     "nuid": "7b5a83c2-ba1c-423e-8f37-dba8bdc51d21",
     "showTitle": false,
     "tableResultSettingsMap": {},
     "title": ""
    }
   },
   "outputs": [
    {
     "output_type": "display_data",
     "data": {
      "text/html": [
       "<style scoped>\n",
       "  .table-result-container {\n",
       "    max-height: 300px;\n",
       "    overflow: auto;\n",
       "  }\n",
       "  table, th, td {\n",
       "    border: 1px solid black;\n",
       "    border-collapse: collapse;\n",
       "  }\n",
       "  th, td {\n",
       "    padding: 5px;\n",
       "  }\n",
       "  th {\n",
       "    text-align: left;\n",
       "  }\n",
       "</style><div class='table-result-container'><table class='table-result'><thead style='background-color: white'><tr><th>num_affected_rows</th><th>num_inserted_rows</th></tr></thead><tbody><tr><td>30</td><td>30</td></tr></tbody></table></div>"
      ]
     },
     "metadata": {
      "application/vnd.databricks.v1+output": {
       "addedWidgets": {},
       "aggData": [],
       "aggError": "",
       "aggOverflow": false,
       "aggSchema": [],
       "aggSeriesLimitReached": false,
       "aggType": "",
       "arguments": {},
       "columnCustomDisplayInfos": {},
       "data": [
        [
         30,
         30
        ]
       ],
       "datasetInfos": [
        {
         "name": "_sqldf",
         "schema": {
          "fields": [
           {
            "metadata": {},
            "name": "num_affected_rows",
            "nullable": true,
            "type": "long"
           },
           {
            "metadata": {},
            "name": "num_inserted_rows",
            "nullable": true,
            "type": "long"
           }
          ],
          "type": "struct"
         },
         "tableIdentifier": null,
         "typeStr": "pyspark.sql.connect.dataframe.DataFrame"
        }
       ],
       "dbfsResultPath": null,
       "isJsonSchema": true,
       "metadata": {
        "createTempViewForImplicitDf": true,
        "dataframeName": "_sqldf",
        "executionCount": 6
       },
       "overflow": false,
       "plotOptions": {
        "customPlotOptions": {},
        "displayType": "table",
        "pivotAggregation": null,
        "pivotColumns": null,
        "xColumns": null,
        "yColumns": null
       },
       "removedWidgets": [],
       "schema": [
        {
         "metadata": "{}",
         "name": "num_affected_rows",
         "type": "\"long\""
        },
        {
         "metadata": "{}",
         "name": "num_inserted_rows",
         "type": "\"long\""
        }
       ],
       "type": "table"
      }
     },
     "output_type": "display_data"
    }
   ],
   "source": [
    "%sql\n",
    "INSERT INTO cablemaster.telecom_db.network_infrastructure (id, infrastructure_type, location, capacity_gbps, deployment_date)\n",
    "VALUES\n",
    "    (1, 'Data Center A', 'New York', 100, '2020-01-01'),\n",
    "    (2, 'Data Center B', 'San Francisco', 200, '2021-02-15'),\n",
    "    (3, 'Data Center C', 'London', 150, '2019-03-20'),\n",
    "    (4, 'Data Center D', 'Paris', 180, '2022-04-25'),\n",
    "    (5, 'Data Center E', 'Tokyo', 250, '2021-05-30'),\n",
    "    (6, 'Data Center F', 'Singapore', 300, '2020-06-05'),\n",
    "    (7, 'Data Center G', 'Sydney', 180, '2021-07-10'),\n",
    "    (8, 'Data Center H', 'Dubai', 200, '2019-08-15'),\n",
    "    (9, 'Data Center I', 'Hong Kong', 250, '2020-09-20'),\n",
    "    (10, 'Data Center J', 'Shanghai', 300, '2021-10-25'),\n",
    "    (11, 'Data Center K', 'Berlin', 150, '2019-11-30'),\n",
    "    (12, 'Data Center L', 'Amsterdam', 180, '2020-12-05'),\n",
    "    (13, 'Data Center M', 'Toronto', 200, '2022-01-10'),\n",
    "    (14, 'Data Center N', 'Chicago', 250, '2020-02-15'),\n",
    "    (15, 'Data Center O', 'Los Angeles', 300, '2021-03-20'),\n",
    "    (16, 'Data Center P', 'Miami', 150, '2019-04-25'),\n",
    "    (17, 'Data Center Q', 'Dallas', 180, '2020-05-30'),\n",
    "    (18, 'Data Center R', 'Houston', 200, '2021-07-05'),\n",
    "    (19, 'Data Center S', 'Seattle', 250, '2019-08-10'),\n",
    "    (20, 'Data Center T', 'Vancouver', 300, '2020-09-15'),\n",
    "    (21, 'Data Center U', 'Montreal', 150, '2021-10-20'),\n",
    "    (22, 'Data Center V', 'Mexico City', 180, '2019-11-25'),\n",
    "    (23, 'Data Center W', 'Sao Paulo', 200, '2020-12-30'),\n",
    "    (24, 'Data Center X', 'Rio de Janeiro', 250, '2022-02-05'),\n",
    "    (25, 'Data Center Y', 'Buenos Aires', 300, '2020-03-10'),\n",
    "    (26, 'Data Center Z', 'Santiago', 150, '2022-04-15'),\n",
    "    (27, 'Data Center AA', 'Lima', 180, '2020-05-20'),\n",
    "    (28, 'Data Center AB', 'Bogota', 200, '2021-06-25'),\n",
    "    (29, 'Data Center AC', 'Caracas', 250, '2019-07-30'),\n",
    "    (30, 'Data Center AD', 'Lagos', 300, '2020-08-05');\n"
   ]
  },
  {
   "cell_type": "code",
   "execution_count": 0,
   "metadata": {
    "application/vnd.databricks.v1+cell": {
     "cellMetadata": {
      "byteLimit": 2048000,
      "implicitDf": true,
      "rowLimit": 10000
     },
     "inputWidgets": {},
     "nuid": "654dd703-f0ca-49f5-ab1a-6b37710ba06f",
     "showTitle": false,
     "tableResultSettingsMap": {},
     "title": ""
    }
   },
   "outputs": [
    {
     "output_type": "display_data",
     "data": {
      "text/html": [
       "<style scoped>\n",
       "  .table-result-container {\n",
       "    max-height: 300px;\n",
       "    overflow: auto;\n",
       "  }\n",
       "  table, th, td {\n",
       "    border: 1px solid black;\n",
       "    border-collapse: collapse;\n",
       "  }\n",
       "  th, td {\n",
       "    padding: 5px;\n",
       "  }\n",
       "  th {\n",
       "    text-align: left;\n",
       "  }\n",
       "</style><div class='table-result-container'><table class='table-result'><thead style='background-color: white'><tr><th>num_affected_rows</th><th>num_inserted_rows</th></tr></thead><tbody><tr><td>30</td><td>30</td></tr></tbody></table></div>"
      ]
     },
     "metadata": {
      "application/vnd.databricks.v1+output": {
       "addedWidgets": {},
       "aggData": [],
       "aggError": "",
       "aggOverflow": false,
       "aggSchema": [],
       "aggSeriesLimitReached": false,
       "aggType": "",
       "arguments": {},
       "columnCustomDisplayInfos": {},
       "data": [
        [
         30,
         30
        ]
       ],
       "datasetInfos": [
        {
         "name": "_sqldf",
         "schema": {
          "fields": [
           {
            "metadata": {},
            "name": "num_affected_rows",
            "nullable": true,
            "type": "long"
           },
           {
            "metadata": {},
            "name": "num_inserted_rows",
            "nullable": true,
            "type": "long"
           }
          ],
          "type": "struct"
         },
         "tableIdentifier": null,
         "typeStr": "pyspark.sql.connect.dataframe.DataFrame"
        }
       ],
       "dbfsResultPath": null,
       "isJsonSchema": true,
       "metadata": {
        "createTempViewForImplicitDf": true,
        "dataframeName": "_sqldf",
        "executionCount": 7
       },
       "overflow": false,
       "plotOptions": {
        "customPlotOptions": {},
        "displayType": "table",
        "pivotAggregation": null,
        "pivotColumns": null,
        "xColumns": null,
        "yColumns": null
       },
       "removedWidgets": [],
       "schema": [
        {
         "metadata": "{}",
         "name": "num_affected_rows",
         "type": "\"long\""
        },
        {
         "metadata": "{}",
         "name": "num_inserted_rows",
         "type": "\"long\""
        }
       ],
       "type": "table"
      }
     },
     "output_type": "display_data"
    }
   ],
   "source": [
    "%sql\n",
    "INSERT INTO cablemaster.manufacturing_db.production_lines (id, line_name, product_type, capacity_units_per_day, location, operational_since)\n",
    "VALUES\n",
    "    (1, 'Production Line A', 'Cables', 1000, 'Factory A', '2019-01-01'),\n",
    "    (2, 'Production Line B', 'Fibers', 1200, 'Factory B', '2020-02-15'),\n",
    "    (3, 'Production Line C', 'Wires', 800, 'Factory C', '2018-03-20'),\n",
    "    (4, 'Production Line D', 'Connectors', 600, 'Factory D', '2021-04-25'),\n",
    "    (5, 'Production Line E', 'Optical Devices', 700, 'Factory E', '2022-05-30'),\n",
    "    (6, 'Production Line F', 'Electronic Components', 900, 'Factory F', '2023-06-05'),\n",
    "    (7, 'Production Line G', 'Insulators', 500, 'Factory G', '2019-07-10'),\n",
    "    (8, 'Production Line H', 'Transmission Equipment', 1100, 'Factory H', '2020-08-15'),\n",
    "    (9, 'Production Line I', 'Switchgear', 950, 'Factory I', '2017-09-20'),\n",
    "    (10, 'Production Line J', 'Transformers', 850, 'Factory J', '2018-10-25'),\n",
    "    (11, 'Production Line K', 'Power Cables', 1300, 'Factory K', '2016-11-30'),\n",
    "    (12, 'Production Line L', 'Telecom Cables', 1000, 'Factory L', '2015-12-05'),\n",
    "    (13, 'Production Line M', 'Industrial Cables', 1200, 'Factory M', '2014-01-10'),\n",
    "    (14, 'Production Line N', 'Specialty Cables', 800, 'Factory N', '2013-02-15'),\n",
    "    (15, 'Production Line O', 'Electric Wires', 600, 'Factory O', '2012-03-20'),\n",
    "    (16, 'Production Line P', 'Power Connectors', 700, 'Factory P', '2021-04-25'),\n",
    "    (17, 'Production Line Q', 'Data Cables', 900, 'Factory Q', '2022-05-30'),\n",
    "    (18, 'Production Line R', 'Fiber Optic Cables', 500, 'Factory R', '2019-06-05'),\n",
    "    (19, 'Production Line S', 'Audio Cables', 1100, 'Factory S', '2020-07-10'),\n",
    "    (20, 'Production Line T', 'Video Cables', 950, 'Factory T', '2018-08-15'),\n",
    "    (21, 'Production Line U', 'Coaxial Cables', 850, 'Factory U', '2017-09-20'),\n",
    "    (22, 'Production Line V', 'Network Cables', 1300, 'Factory V', '2016-10-25'),\n",
    "    (23, 'Production Line W', 'Instrumentation Cables', 1000, 'Factory W', '2015-11-30'),\n",
    "    (24, 'Production Line X', 'Control Cables', 1200, 'Factory X', '2014-12-05'),\n",
    "    (25, 'Production Line Y', 'Fire Resistant Cables', 800, 'Factory Y', '2013-01-10'),\n",
    "    (26, 'Production Line Z', 'Mining Cables', 600, 'Factory Z', '2012-02-15'),\n",
    "    (27, 'Production Line AA', 'Oil & Gas Cables', 700, 'Factory AA', '2021-03-20'),\n",
    "    (28, 'Production Line AB', 'Marine Cables', 900, 'Factory AB', '2022-04-25'),\n",
    "    (29, 'Production Line AC', 'Automotive Cables', 500, 'Factory AC', '2019-05-30'),\n",
    "    (30, 'Production Line AD', 'Aerospace Cables', 1100, 'Factory AD', '2020-06-05');\n"
   ]
  },
  {
   "cell_type": "code",
   "execution_count": 0,
   "metadata": {
    "application/vnd.databricks.v1+cell": {
     "cellMetadata": {
      "byteLimit": 2048000,
      "implicitDf": true,
      "rowLimit": 10000
     },
     "inputWidgets": {},
     "nuid": "7059f98b-3410-4393-babf-98e155dd509a",
     "showTitle": false,
     "tableResultSettingsMap": {},
     "title": ""
    }
   },
   "outputs": [
    {
     "output_type": "display_data",
     "data": {
      "text/html": [
       "<style scoped>\n",
       "  .table-result-container {\n",
       "    max-height: 300px;\n",
       "    overflow: auto;\n",
       "  }\n",
       "  table, th, td {\n",
       "    border: 1px solid black;\n",
       "    border-collapse: collapse;\n",
       "  }\n",
       "  th, td {\n",
       "    padding: 5px;\n",
       "  }\n",
       "  th {\n",
       "    text-align: left;\n",
       "  }\n",
       "</style><div class='table-result-container'><table class='table-result'><thead style='background-color: white'><tr><th>num_affected_rows</th><th>num_inserted_rows</th></tr></thead><tbody><tr><td>30</td><td>30</td></tr></tbody></table></div>"
      ]
     },
     "metadata": {
      "application/vnd.databricks.v1+output": {
       "addedWidgets": {},
       "aggData": [],
       "aggError": "",
       "aggOverflow": false,
       "aggSchema": [],
       "aggSeriesLimitReached": false,
       "aggType": "",
       "arguments": {},
       "columnCustomDisplayInfos": {},
       "data": [
        [
         30,
         30
        ]
       ],
       "datasetInfos": [
        {
         "name": "_sqldf",
         "schema": {
          "fields": [
           {
            "metadata": {},
            "name": "num_affected_rows",
            "nullable": true,
            "type": "long"
           },
           {
            "metadata": {},
            "name": "num_inserted_rows",
            "nullable": true,
            "type": "long"
           }
          ],
          "type": "struct"
         },
         "tableIdentifier": null,
         "typeStr": "pyspark.sql.connect.dataframe.DataFrame"
        }
       ],
       "dbfsResultPath": null,
       "isJsonSchema": true,
       "metadata": {
        "createTempViewForImplicitDf": true,
        "dataframeName": "_sqldf",
        "executionCount": 8
       },
       "overflow": false,
       "plotOptions": {
        "customPlotOptions": {},
        "displayType": "table",
        "pivotAggregation": null,
        "pivotColumns": null,
        "xColumns": null,
        "yColumns": null
       },
       "removedWidgets": [],
       "schema": [
        {
         "metadata": "{}",
         "name": "num_affected_rows",
         "type": "\"long\""
        },
        {
         "metadata": "{}",
         "name": "num_inserted_rows",
         "type": "\"long\""
        }
       ],
       "type": "table"
      }
     },
     "output_type": "display_data"
    }
   ],
   "source": [
    "%sql\n",
    "INSERT INTO cablemaster.manufacturing_db.inventory_management (id, material_name, quantity, unit, location, last_updated)\n",
    "VALUES\n",
    "    (1, 'Copper', 5000, 'kg', 'Warehouse A', '2023-01-01'),\n",
    "    (2, 'Aluminum', 3000, 'kg', 'Warehouse B', '2024-02-15'),\n",
    "    (3, 'Steel', 4000, 'kg', 'Warehouse C', '2022-03-20'),\n",
    "    (4, 'Plastic', 2000, 'kg', 'Warehouse D', '2021-04-25'),\n",
    "    (5, 'Rubber', 1500, 'kg', 'Warehouse E', '2020-05-30'),\n",
    "    (6, 'Silicon', 1000, 'kg', 'Warehouse F', '2019-06-05'),\n",
    "    (7, 'Fiber Optics', 2500, 'meters', 'Warehouse G', '2022-07-10'),\n",
    "    (8, 'Chemicals', 1800, 'liters', 'Warehouse H', '2021-08-15'),\n",
    "    (9, 'Coatings', 2200, 'liters', 'Warehouse I', '2020-09-20'),\n",
    "    (10, 'Adhesives', 1200, 'liters', 'Warehouse J', '2019-10-25'),\n",
    "    (11, 'Insulation Materials', 1600, 'sqm', 'Warehouse K', '2018-11-30'),\n",
    "    (12, 'Packaging Materials', 1900, 'units', 'Warehouse L', '2023-12-05'),\n",
    "    (13, 'Tools & Equipment', 2100, 'units', 'Warehouse M', '2022-01-10'),\n",
    "    (14, 'Maintenance Supplies', 2300, 'units', 'Warehouse N', '2021-02-15'),\n",
    "    (15, 'Safety Gear', 2700, 'units', 'Warehouse O', '2020-03-20'),\n",
    "    (16, 'Electronics', 3000, 'units', 'Warehouse P', '2019-04-25'),\n",
    "    (17, 'Raw Materials', 3200, 'kg', 'Warehouse Q', '2022-05-30'),\n",
    "    (18, 'Finished Products', 3500, 'units', 'Warehouse R', '2021-06-05'),\n",
    "    (19, 'Spares & Components', 3800, 'units', 'Warehouse S', '2020-07-10'),\n",
    "    (20, 'Other', 4000, 'units', 'Warehouse T', '2019-08-15'),\n",
    "    (21, 'Expendables', 4500, 'units', 'Warehouse U', '2018-09-20'),\n",
    "    (22, 'Waste', 4800, 'kg', 'Warehouse V', '2023-10-25'),\n",
    "    (23, 'Byproducts', 4900, 'units', 'Warehouse W', '2022-11-30'),\n",
    "    (24, 'Scrap', 5000, 'kg', 'Warehouse X', '2022-12-05'),\n",
    "    (25, 'Recyclables', 5100, 'units', 'Warehouse Y', '2021-01-10'),\n",
    "    (26, 'Refuse', 5200, 'units', 'Warehouse Z', '2020-02-15'),\n",
    "    (27, 'Surplus', 5400, 'units', 'Warehouse AA', '2019-03-20'),\n",
    "    (28, 'Miscellaneous', 5500, 'units', 'Warehouse AB', '2018-04-25'),\n",
    "    (29, 'Remnants', 5700, 'units', 'Warehouse AC', '2023-05-30'),\n",
    "    (30, 'Scraps', 5800, 'units', 'Warehouse AD', '2022-06-05');\n"
   ]
  },
  {
   "cell_type": "code",
   "execution_count": 0,
   "metadata": {
    "application/vnd.databricks.v1+cell": {
     "cellMetadata": {
      "byteLimit": 2048000,
      "implicitDf": true,
      "rowLimit": 10000
     },
     "inputWidgets": {},
     "nuid": "e33164b5-640d-4d8d-824f-0ec4f897e687",
     "showTitle": false,
     "tableResultSettingsMap": {},
     "title": ""
    }
   },
   "outputs": [
    {
     "output_type": "display_data",
     "data": {
      "text/html": [
       "<style scoped>\n",
       "  .table-result-container {\n",
       "    max-height: 300px;\n",
       "    overflow: auto;\n",
       "  }\n",
       "  table, th, td {\n",
       "    border: 1px solid black;\n",
       "    border-collapse: collapse;\n",
       "  }\n",
       "  th, td {\n",
       "    padding: 5px;\n",
       "  }\n",
       "  th {\n",
       "    text-align: left;\n",
       "  }\n",
       "</style><div class='table-result-container'><table class='table-result'><thead style='background-color: white'><tr><th>num_affected_rows</th><th>num_inserted_rows</th></tr></thead><tbody><tr><td>30</td><td>30</td></tr></tbody></table></div>"
      ]
     },
     "metadata": {
      "application/vnd.databricks.v1+output": {
       "addedWidgets": {},
       "aggData": [],
       "aggError": "",
       "aggOverflow": false,
       "aggSchema": [],
       "aggSeriesLimitReached": false,
       "aggType": "",
       "arguments": {},
       "columnCustomDisplayInfos": {},
       "data": [
        [
         30,
         30
        ]
       ],
       "datasetInfos": [
        {
         "name": "_sqldf",
         "schema": {
          "fields": [
           {
            "metadata": {},
            "name": "num_affected_rows",
            "nullable": true,
            "type": "long"
           },
           {
            "metadata": {},
            "name": "num_inserted_rows",
            "nullable": true,
            "type": "long"
           }
          ],
          "type": "struct"
         },
         "tableIdentifier": null,
         "typeStr": "pyspark.sql.connect.dataframe.DataFrame"
        }
       ],
       "dbfsResultPath": null,
       "isJsonSchema": true,
       "metadata": {
        "createTempViewForImplicitDf": true,
        "dataframeName": "_sqldf",
        "executionCount": 9
       },
       "overflow": false,
       "plotOptions": {
        "customPlotOptions": {},
        "displayType": "table",
        "pivotAggregation": null,
        "pivotColumns": null,
        "xColumns": null,
        "yColumns": null
       },
       "removedWidgets": [],
       "schema": [
        {
         "metadata": "{}",
         "name": "num_affected_rows",
         "type": "\"long\""
        },
        {
         "metadata": "{}",
         "name": "num_inserted_rows",
         "type": "\"long\""
        }
       ],
       "type": "table"
      }
     },
     "output_type": "display_data"
    }
   ],
   "source": [
    "%sql\n",
    "INSERT INTO cablemaster.sales_marketing_db.customer_data (id, customer_name, contact_info, industry, region, last_purchase_date)\n",
    "VALUES\n",
    "    (1, 'Tech Solutions Inc.', 'Jane Doe, jane.doe@techsolutions.com, +1-123-456-7890', 'Technology', 'North America', '2023-01-10'),\n",
    "    (2, 'Global Networks Ltd.', 'John Smith, john.smith@globalnetworks.com, +44-20-1234-5678', 'Telecommunications', 'Europe', '2023-02-15'),\n",
    "    (3, 'Energy Innovations Co.', 'Emily Johnson, emily.johnson@energyinnovations.co', 'Energy', 'Asia-Pacific', '2023-03-20'),\n",
    "    (4, 'Manufacturing Solutions Ltd.', 'Michael Williams, michael.williams@manufacturingsolutions.com', 'Manufacturing', 'Europe', '2023-04-25'),\n",
    "    (5, 'Healthcare Providers Inc.', 'Sophia Brown, sophia.brown@healthcareproviders.com', 'Healthcare', 'North America', '2023-05-30'),\n",
    "    (6, 'Financial Services Group', 'James Davis, james.davis@financialservicesgroup.com', 'Finance', 'Europe', '2023-06-05'),\n",
    "    (7, 'Retail Distributors Ltd.', 'Emma Wilson, emma.wilson@retail-distributors.com', 'Retail', 'North America', '2023-07-10'),\n",
    "    (8, 'Education Systems Inc.', 'Noah Garcia, noah.garcia@educationsystems.com', 'Education', 'Asia-Pacific', '2023-08-15'),\n",
    "    (9, 'Transportation Solutions Ltd.', 'Olivia Rodriguez, olivia.rodriguez@transportationsolutions.com', 'Transportation', 'Europe', '2023-09-20'),\n",
    "    (10, 'Government Services Co.', 'Liam Martinez, liam.martinez@govservicesco.com', 'Government', 'North America', '2023-10-25'),\n",
    "    (11, 'Agricultural Enterprises Inc.', 'Ava Hernandez, ava.hernandez@agriculturalenterprises.com', 'Agriculture', 'Europe', '2023-11-30'),\n",
    "    (12, 'Media Networks Ltd.', 'William Wilson, william.wilson@medianetworks.com', 'Media', 'Asia-Pacific', '2023-12-05'),\n",
    "    (13, 'Real Estate Solutions Inc.', 'Isabella Lopez, isabella.lopez@realestatesolutions.com', 'Real Estate', 'North America', '2024-01-10'),\n",
    "    (14, 'Automotive Group Ltd.', 'Mason Moore, mason.moore@automotivegroup.com', 'Automotive', 'Europe', '2024-02-15'),\n",
    "    (15, 'Insurance Providers Inc.', 'Sofia Martin, sofia.martin@insuranceproviders.com', 'Insurance', 'Asia-Pacific', '2024-03-20'),\n",
    "    (16, 'Logistics Solutions Ltd.', 'Jackson Lee, jackson.lee@logisticssolutions.com', 'Logistics', 'North America', '2024-04-25'),\n",
    "    (17, 'Technology Innovators Co.', 'Charlotte Hill, charlotte.hill@technologyinnovators.com', 'Technology', 'Europe', '2024-05-30'),\n",
    "    (18, 'Telecom Networks Ltd.', 'Lucas Clark, lucas.clark@telecomnetworks.com', 'Telecommunications', 'Asia-Pacific', '2024-06-05'),\n",
    "    (19, 'Energy Services Inc.', 'Amelia Scott, amelia.scott@energyservices.com', 'Energy', 'North America', '2024-07-10'),\n",
    "    (20, 'Manufacturing Solutions Ltd.', 'Benjamin Green, benjamin.green@manufacturingsolutions.com', 'Manufacturing', 'Europe', '2024-08-15'),\n",
    "    (21, 'Healthcare Innovations Inc.', 'Harper Adams, harper.adams@healthcareinnovations.com', 'Healthcare', 'Asia-Pacific', '2024-09-20'),\n",
    "    (22, 'Financial Advisors Co.', 'Evelyn Baker, evelyn.baker@financialadvisors.com', 'Finance', 'North America', '2024-10-25'),\n",
    "    (23, 'Retail Enterprises Ltd.', 'Logan Young, logan.young@retailenterprises.com', 'Retail', 'Europe', '2024-11-30'),\n",
    "    (24, 'Education Solutions Inc.', 'Avery Wright, avery.wright@educationsolutions.com', 'Education', 'Asia-Pacific', '2024-12-05'),\n",
    "    (25, 'Transportation Networks Ltd.', 'Madison King, madison.king@transportationnetworks.com', 'Transportation', 'North America', '2025-01-10'),\n",
    "    (26, 'Government Innovations Co.', 'Jacob Hill, jacob.hill@govinnovationsco.com', 'Government', 'Europe', '2025-02-15'),\n",
    "    (27, 'Agricultural Solutions Ltd.', 'Emily Thompson, emily.thompson@agriculturalsolutions.com', 'Agriculture', 'Asia-Pacific', '2025-03-20'),\n",
    "    (28, 'Media Enterprises Inc.', 'Daniel Martinez, daniel.martinez@mediaenterprises.com', 'Media', 'North America', '2025-04-25'),\n",
    "    (29, 'Real Estate Innovators Ltd.', 'Olivia Wilson, olivia.wilson@realestateinnovators.com', 'Real Estate', 'Europe', '2025-05-30'),\n",
    "    (30, 'Automotive Solutions Inc.', 'Sophia Garcia, sophia.garcia@automotivesolutions.com', 'Automotive', 'Asia-Pacific', '2025-06-05');\n"
   ]
  },
  {
   "cell_type": "code",
   "execution_count": 0,
   "metadata": {
    "application/vnd.databricks.v1+cell": {
     "cellMetadata": {
      "byteLimit": 2048000,
      "implicitDf": true,
      "rowLimit": 10000
     },
     "inputWidgets": {},
     "nuid": "c177cd87-9dda-4504-9b1d-7d2fee7d459d",
     "showTitle": false,
     "tableResultSettingsMap": {},
     "title": ""
    }
   },
   "outputs": [
    {
     "output_type": "display_data",
     "data": {
      "text/html": [
       "<style scoped>\n",
       "  .table-result-container {\n",
       "    max-height: 300px;\n",
       "    overflow: auto;\n",
       "  }\n",
       "  table, th, td {\n",
       "    border: 1px solid black;\n",
       "    border-collapse: collapse;\n",
       "  }\n",
       "  th, td {\n",
       "    padding: 5px;\n",
       "  }\n",
       "  th {\n",
       "    text-align: left;\n",
       "  }\n",
       "</style><div class='table-result-container'><table class='table-result'><thead style='background-color: white'><tr><th>num_affected_rows</th><th>num_inserted_rows</th></tr></thead><tbody><tr><td>30</td><td>30</td></tr></tbody></table></div>"
      ]
     },
     "metadata": {
      "application/vnd.databricks.v1+output": {
       "addedWidgets": {},
       "aggData": [],
       "aggError": "",
       "aggOverflow": false,
       "aggSchema": [],
       "aggSeriesLimitReached": false,
       "aggType": "",
       "arguments": {},
       "columnCustomDisplayInfos": {},
       "data": [
        [
         30,
         30
        ]
       ],
       "datasetInfos": [
        {
         "name": "_sqldf",
         "schema": {
          "fields": [
           {
            "metadata": {},
            "name": "num_affected_rows",
            "nullable": true,
            "type": "long"
           },
           {
            "metadata": {},
            "name": "num_inserted_rows",
            "nullable": true,
            "type": "long"
           }
          ],
          "type": "struct"
         },
         "tableIdentifier": null,
         "typeStr": "pyspark.sql.connect.dataframe.DataFrame"
        }
       ],
       "dbfsResultPath": null,
       "isJsonSchema": true,
       "metadata": {
        "createTempViewForImplicitDf": true,
        "dataframeName": "_sqldf",
        "executionCount": 10
       },
       "overflow": false,
       "plotOptions": {
        "customPlotOptions": {},
        "displayType": "table",
        "pivotAggregation": null,
        "pivotColumns": null,
        "xColumns": null,
        "yColumns": null
       },
       "removedWidgets": [],
       "schema": [
        {
         "metadata": "{}",
         "name": "num_affected_rows",
         "type": "\"long\""
        },
        {
         "metadata": "{}",
         "name": "num_inserted_rows",
         "type": "\"long\""
        }
       ],
       "type": "table"
      }
     },
     "output_type": "display_data"
    }
   ],
   "source": [
    "%sql\n",
    "INSERT INTO cablemaster.sales_marketing_db.sales_performance (id, product_name, sales_volume, revenue_usd, region, sales_date)\n",
    "VALUES\n",
    "    (1, 'Product A', 100, 5000.00, 'North America', '2023-01-10'),\n",
    "    (2, 'Product B', 120, 6000.00, 'Europe', '2023-02-15'),\n",
    "    (3, 'Product C', 150, 7500.00, 'Asia-Pacific', '2023-03-20'),\n",
    "    (4, 'Product D', 200, 10000.00, 'North America', '2023-04-25'),\n",
    "    (5, 'Product E', 180, 9000.00, 'Europe', '2023-05-30'),\n",
    "    (6, 'Product F', 250, 12500.00, 'Asia-Pacific', '2023-06-05'),\n",
    "    (7, 'Product G', 300, 15000.00, 'North America', '2023-07-10'),\n",
    "    (8, 'Product H', 280, 14000.00, 'Europe', '2023-08-15'),\n",
    "    (9, 'Product I', 350, 17500.00, 'Asia-Pacific', '2023-09-20'),\n",
    "    (10, 'Product J', 400, 20000.00, 'North America', '2023-10-25'),\n",
    "    (11, 'Product K', 380, 19000.00, 'Europe', '2023-11-30'),\n",
    "    (12, 'Product L', 450, 22500.00, 'Asia-Pacific', '2023-12-05'),\n",
    "    (13, 'Product M', 500, 25000.00, 'North America', '2024-01-10'),\n",
    "    (14, 'Product N', 480, 24000.00, 'Europe', '2024-02-15'),\n",
    "    (15, 'Product O', 550, 27500.00, 'Asia-Pacific', '2024-03-20'),\n",
    "    (16, 'Product P', 600, 30000.00, 'North America', '2024-04-25'),\n",
    "    (17, 'Product Q', 580, 29000.00, 'Europe', '2024-05-30'),\n",
    "    (18, 'Product R', 650, 32500.00, 'Asia-Pacific', '2024-06-05'),\n",
    "    (19, 'Product S', 700, 35000.00, 'North America', '2024-07-10'),\n",
    "    (20, 'Product T', 680, 34000.00, 'Europe', '2024-08-15'),\n",
    "    (21, 'Product U', 750, 37500.00, 'Asia-Pacific', '2024-09-20'),\n",
    "    (22, 'Product V', 800, 40000.00, 'North America', '2024-10-25'),\n",
    "    (23, 'Product W', 780, 39000.00, 'Europe', '2024-11-30'),\n",
    "    (24, 'Product X', 850, 42500.00, 'Asia-Pacific', '2024-12-05'),\n",
    "    (25, 'Product Y', 900, 45000.00, 'North America', '2025-01-10'),\n",
    "    (26, 'Product Z', 880, 44000.00, 'Europe', '2025-02-15'),\n",
    "    (27, 'Product AA', 950, 47500.00, 'Asia-Pacific', '2025-03-20'),\n",
    "    (28, 'Product BB', 1000, 50000.00, 'North America', '2025-04-25'),\n",
    "    (29, 'Product CC', 980, 49000.00, 'Europe', '2025-05-30'),\n",
    "    (30, 'Product DD', 1050, 52500.00, 'Asia-Pacific', '2025-06-05');\n"
   ]
  },
  {
   "cell_type": "code",
   "execution_count": 0,
   "metadata": {
    "application/vnd.databricks.v1+cell": {
     "cellMetadata": {
      "byteLimit": 2048000,
      "implicitDf": true,
      "rowLimit": 10000
     },
     "inputWidgets": {},
     "nuid": "5168d5fd-b3e1-43b3-8e71-0ff009d64df9",
     "showTitle": false,
     "tableResultSettingsMap": {},
     "title": ""
    }
   },
   "outputs": [
    {
     "output_type": "display_data",
     "data": {
      "text/html": [
       "<style scoped>\n",
       "  .table-result-container {\n",
       "    max-height: 300px;\n",
       "    overflow: auto;\n",
       "  }\n",
       "  table, th, td {\n",
       "    border: 1px solid black;\n",
       "    border-collapse: collapse;\n",
       "  }\n",
       "  th, td {\n",
       "    padding: 5px;\n",
       "  }\n",
       "  th {\n",
       "    text-align: left;\n",
       "  }\n",
       "</style><div class='table-result-container'><table class='table-result'><thead style='background-color: white'><tr><th>num_affected_rows</th><th>num_inserted_rows</th></tr></thead><tbody><tr><td>30</td><td>30</td></tr></tbody></table></div>"
      ]
     },
     "metadata": {
      "application/vnd.databricks.v1+output": {
       "addedWidgets": {},
       "aggData": [],
       "aggError": "",
       "aggOverflow": false,
       "aggSchema": [],
       "aggSeriesLimitReached": false,
       "aggType": "",
       "arguments": {},
       "columnCustomDisplayInfos": {},
       "data": [
        [
         30,
         30
        ]
       ],
       "datasetInfos": [
        {
         "name": "_sqldf",
         "schema": {
          "fields": [
           {
            "metadata": {},
            "name": "num_affected_rows",
            "nullable": true,
            "type": "long"
           },
           {
            "metadata": {},
            "name": "num_inserted_rows",
            "nullable": true,
            "type": "long"
           }
          ],
          "type": "struct"
         },
         "tableIdentifier": null,
         "typeStr": "pyspark.sql.connect.dataframe.DataFrame"
        }
       ],
       "dbfsResultPath": null,
       "isJsonSchema": true,
       "metadata": {
        "createTempViewForImplicitDf": true,
        "dataframeName": "_sqldf",
        "executionCount": 11
       },
       "overflow": false,
       "plotOptions": {
        "customPlotOptions": {},
        "displayType": "table",
        "pivotAggregation": null,
        "pivotColumns": null,
        "xColumns": null,
        "yColumns": null
       },
       "removedWidgets": [],
       "schema": [
        {
         "metadata": "{}",
         "name": "num_affected_rows",
         "type": "\"long\""
        },
        {
         "metadata": "{}",
         "name": "num_inserted_rows",
         "type": "\"long\""
        }
       ],
       "type": "table"
      }
     },
     "output_type": "display_data"
    }
   ],
   "source": [
    "%sql\n",
    "INSERT INTO cablemaster.finance_db.financial_statements (id, statement_type, period, total_revenue_usd, total_expenses_usd, net_profit_usd)\n",
    "VALUES\n",
    "    (1, 'Annual', '2023', 1000000.00, 800000.00, 200000.00),\n",
    "    (2, 'Annual', '2024', 1100000.00, 820000.00, 280000.00),\n",
    "    (3, 'Annual', '2025', 1200000.00, 850000.00, 350000.00),\n",
    "    (4, 'Quarterly', 'Q1 2023', 250000.00, 200000.00, 50000.00),\n",
    "    (5, 'Quarterly', 'Q2 2023', 260000.00, 210000.00, 50000.00),\n",
    "    (6, 'Quarterly', 'Q3 2023', 270000.00, 220000.00, 50000.00),\n",
    "    (7, 'Quarterly', 'Q4 2023', 280000.00, 230000.00, 50000.00),\n",
    "    (8, 'Quarterly', 'Q1 2024', 290000.00, 240000.00, 50000.00),\n",
    "    (9, 'Quarterly', 'Q2 2024', 300000.00, 250000.00, 50000.00),\n",
    "    (10, 'Quarterly', 'Q3 2024', 310000.00, 260000.00, 50000.00),\n",
    "    (11, 'Quarterly', 'Q4 2024', 320000.00, 270000.00, 50000.00),\n",
    "    (12, 'Quarterly', 'Q1 2025', 330000.00, 280000.00, 50000.00),\n",
    "    (13, 'Quarterly', 'Q2 2025', 340000.00, 290000.00, 50000.00),\n",
    "    (14, 'Quarterly', 'Q3 2025', 350000.00, 300000.00, 50000.00),\n",
    "    (15, 'Quarterly', 'Q4 2025', 360000.00, 310000.00, 50000.00),\n",
    "    (16, 'Monthly', 'Jan 2023', 100000.00, 80000.00, 20000.00),\n",
    "    (17, 'Monthly', 'Feb 2023', 110000.00, 82000.00, 28000.00),\n",
    "    (18, 'Monthly', 'Mar 2023', 120000.00, 85000.00, 35000.00),\n",
    "    (19, 'Monthly', 'Apr 2023', 125000.00, 88000.00, 37000.00),\n",
    "    (20, 'Monthly', 'May 2023', 130000.00, 90000.00, 40000.00),\n",
    "    (21, 'Monthly', 'Jun 2023', 135000.00, 92000.00, 43000.00),\n",
    "    (22, 'Monthly', 'Jul 2023', 140000.00, 95000.00, 45000.00),\n",
    "    (23, 'Monthly', 'Aug 2023', 145000.00, 97000.00, 48000.00),\n",
    "    (24, 'Monthly', 'Sep 2023', 150000.00, 99000.00, 51000.00),\n",
    "    (25, 'Monthly', 'Oct 2023', 155000.00, 102000.00, 53000.00),\n",
    "    (26, 'Monthly', 'Nov 2023', 160000.00, 105000.00, 56000.00),\n",
    "    (27, 'Monthly', 'Dec 2023', 165000.00, 108000.00, 58000.00),\n",
    "    (28, 'Monthly', 'Jan 2024', 170000.00, 110000.00, 60000.00),\n",
    "    (29, 'Monthly', 'Feb 2024', 175000.00, 113000.00, 63000.00),\n",
    "    (30, 'Monthly', 'Mar 2024', 180000.00, 116000.00, 65000.00);\n"
   ]
  },
  {
   "cell_type": "code",
   "execution_count": 0,
   "metadata": {
    "application/vnd.databricks.v1+cell": {
     "cellMetadata": {
      "byteLimit": 2048000,
      "implicitDf": true,
      "rowLimit": 10000
     },
     "inputWidgets": {},
     "nuid": "1da81ff7-9273-47da-b568-15a01482b094",
     "showTitle": false,
     "tableResultSettingsMap": {},
     "title": ""
    }
   },
   "outputs": [
    {
     "output_type": "display_data",
     "data": {
      "text/html": [
       "<style scoped>\n",
       "  .table-result-container {\n",
       "    max-height: 300px;\n",
       "    overflow: auto;\n",
       "  }\n",
       "  table, th, td {\n",
       "    border: 1px solid black;\n",
       "    border-collapse: collapse;\n",
       "  }\n",
       "  th, td {\n",
       "    padding: 5px;\n",
       "  }\n",
       "  th {\n",
       "    text-align: left;\n",
       "  }\n",
       "</style><div class='table-result-container'><table class='table-result'><thead style='background-color: white'><tr><th>num_affected_rows</th><th>num_inserted_rows</th></tr></thead><tbody><tr><td>30</td><td>30</td></tr></tbody></table></div>"
      ]
     },
     "metadata": {
      "application/vnd.databricks.v1+output": {
       "addedWidgets": {},
       "aggData": [],
       "aggError": "",
       "aggOverflow": false,
       "aggSchema": [],
       "aggSeriesLimitReached": false,
       "aggType": "",
       "arguments": {},
       "columnCustomDisplayInfos": {},
       "data": [
        [
         30,
         30
        ]
       ],
       "datasetInfos": [
        {
         "name": "_sqldf",
         "schema": {
          "fields": [
           {
            "metadata": {},
            "name": "num_affected_rows",
            "nullable": true,
            "type": "long"
           },
           {
            "metadata": {},
            "name": "num_inserted_rows",
            "nullable": true,
            "type": "long"
           }
          ],
          "type": "struct"
         },
         "tableIdentifier": null,
         "typeStr": "pyspark.sql.connect.dataframe.DataFrame"
        }
       ],
       "dbfsResultPath": null,
       "isJsonSchema": true,
       "metadata": {
        "createTempViewForImplicitDf": true,
        "dataframeName": "_sqldf",
        "executionCount": 12
       },
       "overflow": false,
       "plotOptions": {
        "customPlotOptions": {},
        "displayType": "table",
        "pivotAggregation": null,
        "pivotColumns": null,
        "xColumns": null,
        "yColumns": null
       },
       "removedWidgets": [],
       "schema": [
        {
         "metadata": "{}",
         "name": "num_affected_rows",
         "type": "\"long\""
        },
        {
         "metadata": "{}",
         "name": "num_inserted_rows",
         "type": "\"long\""
        }
       ],
       "type": "table"
      }
     },
     "output_type": "display_data"
    }
   ],
   "source": [
    "%sql\n",
    "INSERT INTO cablemaster.finance_db.budget_forecasts (id, forecast_type, period, projected_revenue_usd, projected_expenses_usd, projected_profit_usd)\n",
    "VALUES\n",
    "    (1, 'Annual', '2023', 950000.00, 750000.00, 200000.00),\n",
    "    (2, 'Annual', '2024', 1050000.00, 800000.00, 250000.00),\n",
    "    (3, 'Annual', '2025', 1100000.00, 820000.00, 280000.00),\n",
    "    (4, 'Quarterly', 'Q1 2023', 240000.00, 200000.00, 40000.00),\n",
    "    (5, 'Quarterly', 'Q2 2023', 250000.00, 210000.00, 40000.00),\n",
    "    (6, 'Quarterly', 'Q3 2023', 260000.00, 220000.00, 40000.00),\n",
    "    (7, 'Quarterly', 'Q4 2023', 270000.00, 230000.00, 40000.00),\n",
    "    (8, 'Quarterly', 'Q1 2024', 280000.00, 240000.00, 40000.00),\n",
    "    (9, 'Quarterly', 'Q2 2024', 290000.00, 250000.00, 40000.00),\n",
    "    (10, 'Quarterly', 'Q3 2024', 300000.00, 260000.00, 40000.00),\n",
    "    (11, 'Quarterly', 'Q4 2024', 310000.00, 270000.00, 40000.00),\n",
    "    (12, 'Quarterly', 'Q1 2025', 320000.00, 280000.00, 40000.00),\n",
    "    (13, 'Quarterly', 'Q2 2025', 330000.00, 290000.00, 40000.00),\n",
    "    (14, 'Quarterly', 'Q3 2025', 340000.00, 300000.00, 40000.00),\n",
    "    (15, 'Quarterly', 'Q4 2025', 350000.00, 310000.00, 40000.00),\n",
    "    (16, 'Monthly', 'Jan 2023', 90000.00, 70000.00, 20000.00),\n",
    "    (17, 'Monthly', 'Feb 2023', 95000.00, 72000.00, 23000.00),\n",
    "    (18, 'Monthly', 'Mar 2023', 100000.00, 75000.00, 25000.00),\n",
    "    (19, 'Monthly', 'Apr 2023', 105000.00, 78000.00, 27000.00),\n",
    "    (20, 'Monthly', 'May 2023', 110000.00, 80000.00, 30000.00),\n",
    "    (21, 'Monthly', 'Jun 2023', 115000.00, 82000.00, 33000.00),\n",
    "    (22, 'Monthly', 'Jul 2023', 120000.00, 85000.00, 35000.00),\n",
    "    (23, 'Monthly', 'Aug 2023', 125000.00, 88000.00, 37000.00),\n",
    "    (24, 'Monthly', 'Sep 2023', 130000.00, 90000.00, 40000.00),\n",
    "    (25, 'Monthly', 'Oct 2023', 135000.00, 92000.00, 43000.00),\n",
    "    (26, 'Monthly', 'Nov 2023', 140000.00, 95000.00, 45000.00),\n",
    "    (27, 'Monthly', 'Dec 2023', 145000.00, 97000.00, 48000.00),\n",
    "    (28, 'Monthly', 'Jan 2024', 150000.00, 99000.00, 50000.00),\n",
    "    (29, 'Monthly', 'Feb 2024', 155000.00, 102000.00, 53000.00),\n",
    "    (30, 'Monthly', 'Mar 2024', 160000.00, 105000.00, 55000.00);"
   ]
  }
 ],
 "metadata": {
  "application/vnd.databricks.v1+notebook": {
   "computePreferences": null,
   "dashboards": [],
   "environmentMetadata": {
    "base_environment": "",
    "environment_version": "1"
   },
   "inputWidgetPreferences": null,
   "language": "python",
   "notebookMetadata": {
    "mostRecentlyExecutedCommandWithImplicitDF": {
     "commandId": 1001460733080660,
     "dataframes": [
      "_sqldf"
     ]
    },
    "pythonIndentUnit": 2
   },
   "notebookName": "01 - cablemaster populate",
   "widgets": {}
  },
  "language_info": {
   "name": "python"
  }
 },
 "nbformat": 4,
 "nbformat_minor": 0
}