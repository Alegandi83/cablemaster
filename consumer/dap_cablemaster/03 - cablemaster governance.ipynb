{
 "cells": [
  {
   "cell_type": "code",
   "execution_count": 0,
   "metadata": {
    "application/vnd.databricks.v1+cell": {
     "cellMetadata": {
      "byteLimit": 2048000,
      "implicitDf": true,
      "rowLimit": 10000
     },
     "inputWidgets": {},
     "nuid": "dc0b1a4f-56e6-45bc-abe2-f7f6e705d44d",
     "showTitle": false,
     "tableResultSettingsMap": {},
     "title": ""
    }
   },
   "outputs": [],
   "source": [
    "%sql\n",
    "-- Creates a groups\n",
    "CREATE GROUP cablemaster_DataAnalyst;\n",
    "CREATE GROUP cablemaster_DataScientist;"
   ]
  },
  {
   "cell_type": "code",
   "execution_count": 0,
   "metadata": {
    "application/vnd.databricks.v1+cell": {
     "cellMetadata": {
      "byteLimit": 2048000,
      "implicitDf": true,
      "rowLimit": 10000
     },
     "inputWidgets": {},
     "nuid": "3a418762-7e29-49ad-8de0-6e99491ba723",
     "showTitle": false,
     "tableResultSettingsMap": {},
     "title": ""
    }
   },
   "outputs": [],
   "source": [
    "%sql\n",
    "ALTER GROUP cablemaster_DataAnalyst ADD USER `ana.avdiaj@databricks.com`;\n",
    "ALTER GROUP cablemaster_DataScientist ADD USER `ana.avdiaj@databricks.com`;\n",
    "\n",
    "ALTER GROUP cablemaster_DataAnalyst ADD USER `devrim.difinizio@databricks.com`;\n",
    "ALTER GROUP cablemaster_DataScientist ADD USER `devrim.difinizio@databricks.com`;"
   ]
  },
  {
   "cell_type": "code",
   "execution_count": 0,
   "metadata": {
    "application/vnd.databricks.v1+cell": {
     "cellMetadata": {
      "byteLimit": 2048000,
      "implicitDf": true,
      "rowLimit": 10000
     },
     "inputWidgets": {},
     "nuid": "692fe510-230a-40e3-8785-7df6f2dd637e",
     "showTitle": false,
     "tableResultSettingsMap": {},
     "title": ""
    }
   },
   "outputs": [],
   "source": [
    "%sql\n",
    "GRANT USAGE ON CATALOG cablemaster_catalog TO cablemaster_DataAnalyst;\n",
    "GRANT USAGE ON SCHEMA cablemaster_catalog.finance_db TO cablemaster_DataAnalyst;\n",
    "GRANT SELECT ON TABLE cablemaster_catalog.finance_db.financial_health TO cablemaster_DataAnalyst;\n",
    "GRANT SELECT ON TABLE cablemaster_catalog.finance_db.financial_statements TO cablemaster_DataAnalyst;"
   ]
  },
  {
   "cell_type": "code",
   "execution_count": 0,
   "metadata": {
    "application/vnd.databricks.v1+cell": {
     "cellMetadata": {
      "byteLimit": 2048000,
      "implicitDf": true,
      "rowLimit": 10000
     },
     "inputWidgets": {},
     "nuid": "85aeba76-1271-4aa2-b440-a325360e64a1",
     "showTitle": false,
     "tableResultSettingsMap": {},
     "title": ""
    }
   },
   "outputs": [],
   "source": [
    "%sql\n",
    "GRANT USAGE ON CATALOG cablemaster_catalog TO `devrim.difinizio@databricks.com`;\n",
    "GRANT USAGE ON SCHEMA cablemaster_catalog.finance_db TO `devrim.difinizio@databricks.com`;\n",
    "GRANT SELECT ON TABLE cablemaster_catalog.finance_db.financial_health TO `devrim.difinizio@databricks.com`;\n",
    "GRANT SELECT ON TABLE cablemaster_catalog.finance_db.financial_statements TO `devrim.difinizio@databricks.com`;"
   ]
  },
  {
   "cell_type": "code",
   "execution_count": 0,
   "metadata": {
    "application/vnd.databricks.v1+cell": {
     "cellMetadata": {
      "byteLimit": 2048000,
      "implicitDf": true,
      "rowLimit": 10000
     },
     "inputWidgets": {},
     "nuid": "b219a1ef-42e7-4f2d-9824-2ec8c7b4f3ea",
     "showTitle": false,
     "tableResultSettingsMap": {},
     "title": ""
    }
   },
   "outputs": [],
   "source": [
    "%sql\n",
    "GRANT ALL PRIVILEGES ON SCHEMA cablemaster_catalog.manufacturing_db TO `devrim.difinizio@databricks.com`;"
   ]
  }
 ],
 "metadata": {
  "application/vnd.databricks.v1+notebook": {
   "computePreferences": null,
   "dashboards": [],
   "environmentMetadata": {
    "base_environment": "",
    "environment_version": "1"
   },
   "inputWidgetPreferences": null,
   "language": "python",
   "notebookMetadata": {
    "mostRecentlyExecutedCommandWithImplicitDF": {
     "commandId": 1799440440610156,
     "dataframes": [
      "_sqldf"
     ]
    },
    "pythonIndentUnit": 2
   },
   "notebookName": "03 - cablemaster governance",
   "widgets": {}
  },
  "language_info": {
   "name": "python"
  }
 },
 "nbformat": 4,
 "nbformat_minor": 0
}