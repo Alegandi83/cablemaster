{
 "cells": [
  {
   "cell_type": "markdown",
   "metadata": {
    "application/vnd.databricks.v1+cell": {
     "cellMetadata": {},
     "inputWidgets": {},
     "nuid": "97723c37-5dee-4d48-8147-4bf479cf656a",
     "showTitle": false,
     "tableResultSettingsMap": {},
     "title": ""
    }
   },
   "source": [
    "# OAuth Token Authentication as a user"
   ]
  },
  {
   "cell_type": "markdown",
   "metadata": {
    "application/vnd.databricks.v1+cell": {
     "cellMetadata": {},
     "inputWidgets": {},
     "nuid": "51e931f7-d785-4c05-8e1f-cfd7a4919879",
     "showTitle": false,
     "tableResultSettingsMap": {},
     "title": ""
    }
   },
   "source": [
    "## Overview\n",
    "\n",
    "Details related to OAuth Token Authentication are described: <a href=\"https://learn.microsoft.com/en-us/azure/databricks/dev-tools/auth/oauth-u2m\" target=\"_blank\">here</a>.  "
   ]
  },
  {
   "cell_type": "markdown",
   "metadata": {
    "application/vnd.databricks.v1+cell": {
     "cellMetadata": {},
     "inputWidgets": {},
     "nuid": "18ab4d22-a1ae-422b-8948-1e15fae990aa",
     "showTitle": false,
     "tableResultSettingsMap": {},
     "title": ""
    }
   },
   "source": [
    "### Step 1: Generate an OAuth code verifier and code challenge pair\n",
    "To manually generate and use access tokens for OAuth U2M authentication, you must first have:\n",
    "- a) an OAuth code verifier. Used in step 3 with (c) to generate the OAuth access token\n",
    "- b) an OAuth code challenge, derived from the code verifier. Used in Step 2 to generate an OAuth authorization code (c)."
   ]
  },
  {
   "cell_type": "code",
   "execution_count": 0,
   "metadata": {
    "application/vnd.databricks.v1+cell": {
     "cellMetadata": {
      "byteLimit": 2048000,
      "rowLimit": 10000
     },
     "inputWidgets": {},
     "nuid": "ae0e8f8d-a51b-4962-b37f-f25cca8ac226",
     "showTitle": false,
     "tableResultSettingsMap": {},
     "title": ""
    }
   },
   "outputs": [],
   "source": [
    "import uuid, hashlib, base64\n",
    "\n",
    "# Generate a UUID.\n",
    "uuid1 = uuid.uuid4()\n",
    "\n",
    "# Convert the UUID to a string.\n",
    "uuid_str1 = str(uuid1).upper()\n",
    "\n",
    "# Create the code verifier.\n",
    "code_verifier = uuid_str1 + \"-\" + uuid_str1\n",
    "\n",
    "# Create the code challenge based on the code verifier.\n",
    "code_challenge = base64.urlsafe_b64encode(hashlib.sha256(code_verifier.encode()).digest()).decode('utf-8')\n",
    "\n",
    "# Remove all padding from the code challenge.\n",
    "code_challenge = code_challenge.replace('=', '')\n",
    "\n",
    "# Print the code verifier and the code challenge.\n",
    "# Use these in your calls to manually generate\n",
    "# access tokens for OAuth U2M authentication.\n",
    "print(f\"code_verifier:  {code_verifier}\")\n",
    "print(f\"code_challenge: {code_challenge}\")"
   ]
  },
  {
   "cell_type": "markdown",
   "metadata": {
    "application/vnd.databricks.v1+cell": {
     "cellMetadata": {},
     "inputWidgets": {},
     "nuid": "6eade61c-1ac2-41cd-acaf-8bfb638b06b7",
     "showTitle": false,
     "tableResultSettingsMap": {},
     "title": ""
    }
   },
   "source": [
    "### Step 2: Generate an authorization code\n",
    "You use an OAuth authorization code to generate an Azure Databricks OAuth access token. \n",
    "The authorization code expires immediately after you use it to generate an Azure Databricks OAuth access token. \n",
    "The scope of the authorization code depends on the level that you generate it from. \n",
    "You can generate an authorization code at either the Azure Databricks account level or workspace level, as follows:\n",
    "- generate an authorization code at the account level \\\n",
    "to call account-level and workspace-level REST APIs within accounts and workspaces that your Azure Databricks user account has access to\n",
    "\n",
    "- generate an authorization code at the workspace level for only that workspace \\\n",
    "to call REST APIs within only one workspace that your user account has access to \n",
    "\n"
   ]
  },
  {
   "cell_type": "markdown",
   "metadata": {
    "application/vnd.databricks.v1+cell": {
     "cellMetadata": {},
     "inputWidgets": {},
     "nuid": "ec8e3d7d-2c68-44a2-8879-af6df554f788",
     "showTitle": false,
     "tableResultSettingsMap": {},
     "title": ""
    }
   },
   "source": [
    "#### Generate an account-level authorization code\n",
    "<pre>\n",
    "https://accounts.azuredatabricks.net/oidc/accounts/<account-id>/v1/authorize\n",
    "?client_id=databricks-cli\n",
    "&redirect_uri=<redirect-url>\n",
    "&response_type=code\n",
    "&state=<state>\n",
    "&code_challenge=<code-challenge>\n",
    "&code_challenge_method=S256\n",
    "&scope=all-apis+offline_access\n",
    "</pre>"
   ]
  },
  {
   "cell_type": "code",
   "execution_count": 0,
   "metadata": {
    "application/vnd.databricks.v1+cell": {
     "cellMetadata": {
      "byteLimit": 2048000,
      "rowLimit": 10000
     },
     "inputWidgets": {},
     "nuid": "96f0be91-086a-4921-82d8-97ceb17480e3",
     "showTitle": false,
     "tableResultSettingsMap": {},
     "title": ""
    }
   },
   "outputs": [],
   "source": []
  },
  {
   "cell_type": "code",
   "execution_count": 0,
   "metadata": {
    "application/vnd.databricks.v1+cell": {
     "cellMetadata": {},
     "inputWidgets": {},
     "nuid": "291f688f-cac6-4c3c-901a-c2bda469fd38",
     "showTitle": false,
     "tableResultSettingsMap": {},
     "title": ""
    }
   },
   "outputs": [],
   "source": [
    "auth_code = <>"
   ]
  },
  {
   "cell_type": "markdown",
   "metadata": {
    "application/vnd.databricks.v1+cell": {
     "cellMetadata": {},
     "inputWidgets": {},
     "nuid": "22f8d161-856c-449e-9b3e-c0e963822cc5",
     "showTitle": false,
     "tableResultSettingsMap": {},
     "title": ""
    }
   },
   "source": [
    "#### Generate a workspace-level authorization code\n",
    "<pre>\n",
    "https://<databricks-instance>/oidc/v1/authorize\n",
    "?client_id=databricks-cli\n",
    "&redirect_uri=<redirect-url>\n",
    "&response_type=code\n",
    "&state=<state>\n",
    "&code_challenge=<code-challenge>\n",
    "&code_challenge_method=S256\n",
    "&scope=all-apis+offline_access\n",
    "</pre>"
   ]
  },
  {
   "cell_type": "code",
   "execution_count": 0,
   "metadata": {
    "application/vnd.databricks.v1+cell": {
     "cellMetadata": {},
     "inputWidgets": {},
     "nuid": "215d4edd-e801-4c16-bc96-f99a1e994f29",
     "showTitle": false,
     "tableResultSettingsMap": {},
     "title": ""
    }
   },
   "outputs": [],
   "source": []
  },
  {
   "cell_type": "markdown",
   "metadata": {
    "application/vnd.databricks.v1+cell": {
     "cellMetadata": {},
     "inputWidgets": {},
     "nuid": "2d221fbe-6cc3-4b38-b0d3-249c9b00b907",
     "showTitle": false,
     "tableResultSettingsMap": {},
     "title": ""
    }
   },
   "source": [
    "### Step 3: Use the authorization code to generate an OAuth access token\n",
    "You use the OAuth authorization code from the previous step to generate an Azure Databricks OAuth access token, as follows:\n",
    "\n",
    "- use the account-level authorization code to generate an access token at the account level: \\\n",
    "to call account-level and workspace-level REST APIs within accounts and workspaces that your Azure Databricks user account has access to\n",
    "\n",
    "- use the workspace-level authorization code to generate an access token at the workspace level for only that workspace: \\\n",
    "To call REST APIs within only one workspace that your user account has access to"
   ]
  },
  {
   "cell_type": "markdown",
   "metadata": {
    "application/vnd.databricks.v1+cell": {
     "cellMetadata": {},
     "inputWidgets": {},
     "nuid": "573d6da8-d67b-4f28-808a-2d63b4ddb539",
     "showTitle": false,
     "tableResultSettingsMap": {},
     "title": ""
    }
   },
   "source": [
    "#### Generate an account-level access token\n",
    "<pre>\n",
    "curl --request POST \\\n",
    "https://accounts.azuredatabricks.net/oidc/accounts/<account-id>/v1/token \\\n",
    "--data \"client_id=databricks-cli\" \\\n",
    "--data \"grant_type=authorization_code\" \\\n",
    "--data \"scope=all-apis offline_access\" \\\n",
    "--data \"redirect_uri=<redirect-url>\" \\\n",
    "--data \"code_verifier=<code-verifier>\" \\\n",
    "--data \"code=<authorization-code>\"\n",
    "</pre>"
   ]
  },
  {
   "cell_type": "code",
   "execution_count": 0,
   "metadata": {
    "application/vnd.databricks.v1+cell": {
     "cellMetadata": {
      "byteLimit": 2048000,
      "rowLimit": 10000
     },
     "inputWidgets": {},
     "nuid": "419412d3-3fe3-4c07-975f-f8a556e6b188",
     "showTitle": false,
     "tableResultSettingsMap": {},
     "title": ""
    }
   },
   "outputs": [],
   "source": []
  },
  {
   "cell_type": "markdown",
   "metadata": {
    "application/vnd.databricks.v1+cell": {
     "cellMetadata": {},
     "inputWidgets": {},
     "nuid": "a401bb94-0450-4953-9314-8b3d266570a3",
     "showTitle": false,
     "tableResultSettingsMap": {},
     "title": ""
    }
   },
   "source": [
    "#### Generate a workspace-level access token\n",
    "<pre>\n",
    "curl --request POST \\\n",
    "https://<databricks-instance>/oidc/v1/token \\\n",
    "--data \"client_id=databricks-cli\" \\\n",
    "--data \"grant_type=authorization_code\" \\\n",
    "--data \"scope=all-apis offline_access\" \\\n",
    "--data \"redirect_uri=<redirect-url>\" \\\n",
    "--data \"code_verifier=<code-verifier>\" \\\n",
    "--data \"code=<authorization-code>\"\n",
    "</pre>"
   ]
  },
  {
   "cell_type": "code",
   "execution_count": 0,
   "metadata": {
    "application/vnd.databricks.v1+cell": {
     "cellMetadata": {},
     "inputWidgets": {},
     "nuid": "67202c44-f4e0-46a5-999f-3f924fb86aab",
     "showTitle": false,
     "tableResultSettingsMap": {},
     "title": ""
    }
   },
   "outputs": [],
   "source": []
  },
  {
   "cell_type": "markdown",
   "metadata": {
    "application/vnd.databricks.v1+cell": {
     "cellMetadata": {},
     "inputWidgets": {},
     "nuid": "5d7b2667-f639-4fc7-83a4-7a8c4f72d5fa",
     "showTitle": false,
     "tableResultSettingsMap": {},
     "title": ""
    }
   },
   "source": [
    "### Step 4: Call a Databricks REST API\n",
    "You use the account-level or workspace-level OAuth access token to authenticate to Azure Databricks account-level REST APIs and workspace-level REST APIs, depending on the access token’s scope. \\\n",
    "Your Azure Databricks user account must be an account admin to call account-level REST APIs."
   ]
  },
  {
   "cell_type": "markdown",
   "metadata": {
    "application/vnd.databricks.v1+cell": {
     "cellMetadata": {},
     "inputWidgets": {},
     "nuid": "aecbde75-5a43-4f03-97fe-9305d8e618e5",
     "showTitle": false,
     "tableResultSettingsMap": {},
     "title": ""
    }
   },
   "source": [
    "#### Example account-level REST API request\n",
    "<pre>\n",
    "export OAUTH_TOKEN=<oauth-access-token>\n",
    "\n",
    "curl --request GET --header \"Authorization: Bearer $OAUTH_TOKEN\" \\\n",
    "\"https://accounts.azuredatabricks.net/api/2.0/accounts/<account-id>/workspaces\"\n",
    "</pre>"
   ]
  },
  {
   "cell_type": "code",
   "execution_count": 0,
   "metadata": {
    "application/vnd.databricks.v1+cell": {
     "cellMetadata": {
      "byteLimit": 2048000,
      "rowLimit": 10000
     },
     "inputWidgets": {},
     "nuid": "a5da5061-f8a0-4a90-b25d-e4d07bb2287b",
     "showTitle": false,
     "tableResultSettingsMap": {},
     "title": ""
    }
   },
   "outputs": [],
   "source": []
  },
  {
   "cell_type": "markdown",
   "metadata": {
    "application/vnd.databricks.v1+cell": {
     "cellMetadata": {},
     "inputWidgets": {},
     "nuid": "908d83cf-b9f3-46b2-99de-567af849b077",
     "showTitle": false,
     "tableResultSettingsMap": {},
     "title": ""
    }
   },
   "source": [
    "#### Example workspace-level REST API `request`\n",
    "<pre>\n",
    "export OAUTH_TOKEN=<oauth-access-token>\n",
    "\n",
    "curl --request GET --header \"Authorization: Bearer $OAUTH_TOKEN\" \\\n",
    "\"https://<databricks-instance>/api/2.0/clusters/list\"\n",
    "</pre>"
   ]
  },
  {
   "cell_type": "code",
   "execution_count": 0,
   "metadata": {
    "application/vnd.databricks.v1+cell": {
     "cellMetadata": {
      "byteLimit": 2048000,
      "rowLimit": 10000
     },
     "inputWidgets": {},
     "nuid": "50de678f-b79c-4649-a4ad-f1a2a7f71ad9",
     "showTitle": false,
     "tableResultSettingsMap": {},
     "title": ""
    }
   },
   "outputs": [],
   "source": []
  }
 ],
 "metadata": {
  "application/vnd.databricks.v1+notebook": {
   "computePreferences": null,
   "dashboards": [],
   "environmentMetadata": {
    "base_environment": "",
    "environment_version": "2"
   },
   "inputWidgetPreferences": null,
   "language": "python",
   "notebookMetadata": {
    "mostRecentlyExecutedCommandWithImplicitDF": {
     "commandId": 7401779601158699,
     "dataframes": [
      "_sqldf"
     ]
    },
    "pythonIndentUnit": 4
   },
   "notebookName": "00 - OAuth Token Authentication",
   "widgets": {}
  },
  "language_info": {
   "name": "python"
  }
 },
 "nbformat": 4,
 "nbformat_minor": 0
}
