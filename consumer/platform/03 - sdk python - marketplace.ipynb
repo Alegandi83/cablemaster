{
 "cells": [
  {
   "cell_type": "markdown",
   "metadata": {
    "application/vnd.databricks.v1+cell": {
     "cellMetadata": {},
     "inputWidgets": {},
     "nuid": "85cdb313-aea7-4d4e-9a6d-5706ba3914b8",
     "showTitle": false,
     "tableResultSettingsMap": {},
     "title": ""
    }
   },
   "source": [
    "# Python sdk as Service Principal"
   ]
  },
  {
   "cell_type": "markdown",
   "metadata": {
    "application/vnd.databricks.v1+cell": {
     "cellMetadata": {},
     "inputWidgets": {},
     "nuid": "30e0b00e-c599-495a-bd99-ea7fad2b2722",
     "showTitle": false,
     "tableResultSettingsMap": {},
     "title": ""
    }
   },
   "source": [
    "## Overview\n",
    "\n",
    "Details related to Databricks sdk for python are described: <a href=\"https://learn.microsoft.com/en-us/azure/databricks/dev-tools/sdk-python\" target=\"_blank\">here</a>"
   ]
  },
  {
   "cell_type": "markdown",
   "metadata": {
    "application/vnd.databricks.v1+cell": {
     "cellMetadata": {},
     "inputWidgets": {},
     "nuid": "b82cf8c0-986e-4abb-87a4-894305215225",
     "showTitle": false,
     "tableResultSettingsMap": {},
     "title": ""
    }
   },
   "source": [
    "## Step 1: databricks sdk install"
   ]
  },
  {
   "cell_type": "code",
   "execution_count": 0,
   "metadata": {
    "application/vnd.databricks.v1+cell": {
     "cellMetadata": {
      "byteLimit": 2048000,
      "rowLimit": 10000
     },
     "inputWidgets": {},
     "nuid": "ad730e4c-2d32-4f31-a111-0c442b2a8f66",
     "showTitle": false,
     "tableResultSettingsMap": {},
     "title": ""
    }
   },
   "outputs": [],
   "source": [
    "%pip install databricks-sdk --upgrade"
   ]
  },
  {
   "cell_type": "code",
   "execution_count": 0,
   "metadata": {
    "application/vnd.databricks.v1+cell": {
     "cellMetadata": {
      "byteLimit": 2048000,
      "rowLimit": 10000
     },
     "inputWidgets": {},
     "nuid": "290851e4-ec96-4b49-9da1-d87e4cffe7ae",
     "showTitle": false,
     "tableResultSettingsMap": {},
     "title": ""
    }
   },
   "outputs": [],
   "source": [
    "dbutils.library.restartPython()"
   ]
  },
  {
   "cell_type": "code",
   "execution_count": 0,
   "metadata": {
    "application/vnd.databricks.v1+cell": {
     "cellMetadata": {
      "byteLimit": 2048000,
      "rowLimit": 10000
     },
     "inputWidgets": {},
     "nuid": "7e5fda89-a503-43ac-a090-123aef0bc385",
     "showTitle": false,
     "tableResultSettingsMap": {},
     "title": ""
    }
   },
   "outputs": [],
   "source": [
    "%pip show databricks-sdk | grep -oP '(?<=Version: )\\S+'"
   ]
  },
  {
   "cell_type": "markdown",
   "metadata": {
    "application/vnd.databricks.v1+cell": {
     "cellMetadata": {},
     "inputWidgets": {},
     "nuid": "3d31f7eb-5963-497d-b19e-279dbd7e2b4c",
     "showTitle": false,
     "tableResultSettingsMap": {},
     "title": ""
    }
   },
   "source": [
    "## Step 2: Authentication\n",
    "Details related to python authentication as Service Principal are described: <a href=\"https://learn.microsoft.com/en-us/azure/databricks/dev-tools/auth/oauth-m2m#python\" target=\"_blank\">here</a>"
   ]
  },
  {
   "cell_type": "code",
   "execution_count": 0,
   "metadata": {
    "application/vnd.databricks.v1+cell": {
     "cellMetadata": {
      "byteLimit": 2048000,
      "rowLimit": 10000
     },
     "inputWidgets": {},
     "nuid": "ea0d04d5-37d2-45ff-aba5-5cc0395cc3de",
     "showTitle": false,
     "tableResultSettingsMap": {},
     "title": ""
    }
   },
   "outputs": [],
   "source": [
    "workspace_url = spark.conf.get(\"spark.databricks.workspaceUrl\")\n",
    "display(workspace_url)"
   ]
  },
  {
   "cell_type": "markdown",
   "metadata": {
    "application/vnd.databricks.v1+cell": {
     "cellMetadata": {},
     "inputWidgets": {},
     "nuid": "6c59c89e-9f94-4b92-8e27-d75087dd47c2",
     "showTitle": false,
     "tableResultSettingsMap": {},
     "title": ""
    }
   },
   "source": [
    "### Manual Authentication Setup"
   ]
  },
  {
   "cell_type": "code",
   "execution_count": 0,
   "metadata": {
    "application/vnd.databricks.v1+cell": {
     "cellMetadata": {
      "byteLimit": 2048000,
      "rowLimit": 10000
     },
     "inputWidgets": {},
     "nuid": "065a80ea-f50c-46a2-9fd1-201fa32672f6",
     "showTitle": false,
     "tableResultSettingsMap": {},
     "title": ""
    }
   },
   "outputs": [],
   "source": [
    "dbutils.widgets.text(name='client_id', defaultValue='')\n",
    "dbutils.widgets.text(name='token', defaultValue='')\n",
    "dbutils.widgets.text(name='account_id', defaultValue='')\n",
    "\n",
    "import os\n",
    "\n",
    "sp_cid = dbutils.widgets.get('client_id')\n",
    "sp_tkn = dbutils.widgets.get('token')\n",
    "ws_url =  workspace_url\n",
    "ac_url =  \"https://accounts.azuredatabricks.net\"\n",
    "ac_id = dbutils.widgets.get('account_id')"
   ]
  },
  {
   "cell_type": "code",
   "execution_count": 0,
   "metadata": {
    "application/vnd.databricks.v1+cell": {
     "cellMetadata": {
      "byteLimit": 2048000,
      "rowLimit": 10000
     },
     "inputWidgets": {},
     "nuid": "71747228-bdcc-4e6c-9b57-300e87832af5",
     "showTitle": false,
     "tableResultSettingsMap": {},
     "title": ""
    }
   },
   "outputs": [],
   "source": [
    "display(\"sp_cid: \" + sp_cid)\n",
    "display(\"sp_tkn: \" + sp_tkn)\n",
    "display(\"ws_url: \" + ws_url)\n",
    "display(\"ac_url: \" + ac_url)\n",
    "display(\"ac_id: \"  + ac_id)"
   ]
  },
  {
   "cell_type": "markdown",
   "metadata": {
    "application/vnd.databricks.v1+cell": {
     "cellMetadata": {},
     "inputWidgets": {},
     "nuid": "ff11f104-a2ce-4761-bc1b-f7f00269df41",
     "showTitle": false,
     "tableResultSettingsMap": {},
     "title": ""
    }
   },
   "source": [
    "### Auto Authentication Setup via Secrets"
   ]
  },
  {
   "cell_type": "code",
   "execution_count": 0,
   "metadata": {
    "application/vnd.databricks.v1+cell": {
     "cellMetadata": {
      "byteLimit": 2048000,
      "rowLimit": 10000
     },
     "inputWidgets": {},
     "nuid": "d7499116-767b-416c-91cd-c6c0d7cd871b",
     "showTitle": false,
     "tableResultSettingsMap": {},
     "title": ""
    }
   },
   "outputs": [],
   "source": [
    "scopes = dbutils.secrets.listScopes()\n",
    "scopes"
   ]
  },
  {
   "cell_type": "code",
   "execution_count": 0,
   "metadata": {
    "application/vnd.databricks.v1+cell": {
     "cellMetadata": {
      "byteLimit": 2048000,
      "rowLimit": 10000
     },
     "inputWidgets": {},
     "nuid": "5a6a614b-8228-43da-9eac-326235682188",
     "showTitle": false,
     "tableResultSettingsMap": {},
     "title": ""
    }
   },
   "outputs": [],
   "source": [
    "secrets = dbutils.secrets.list(\"scp-ag83-cm-consumer-004\")\n",
    "secrets"
   ]
  },
  {
   "cell_type": "code",
   "execution_count": 0,
   "metadata": {
    "application/vnd.databricks.v1+cell": {
     "cellMetadata": {
      "byteLimit": 2048000,
      "rowLimit": 10000
     },
     "inputWidgets": {},
     "nuid": "27c9e8f7-4ddf-4f6c-b0a6-a563b7afa2e5",
     "showTitle": false,
     "tableResultSettingsMap": {},
     "title": ""
    }
   },
   "outputs": [],
   "source": [
    "dbutils.widgets.text(name='account_id', defaultValue='')\n",
    "\n",
    "import os\n",
    "\n",
    "sp_cid = dbutils.secrets.get(scope = \"scp-ag83-cm-consumer-004\", key = \"scr-ag83-cm-consumer-admin-004-uuid\")\n",
    "sp_tkn = dbutils.secrets.get(scope = \"scp-ag83-cm-consumer-004\", key = \"scr-ag83-cm-consumer-admin-004-token\")\n",
    "ws_url =  workspace_url\n",
    "ac_url =  \"https://accounts.azuredatabricks.net\"\n",
    "ac_id = dbutils.widgets.get('account_id')"
   ]
  },
  {
   "cell_type": "code",
   "execution_count": 0,
   "metadata": {
    "application/vnd.databricks.v1+cell": {
     "cellMetadata": {
      "byteLimit": 2048000,
      "rowLimit": 10000
     },
     "inputWidgets": {},
     "nuid": "ea20faae-f2bc-4a0a-ae35-713871865dca",
     "showTitle": false,
     "tableResultSettingsMap": {},
     "title": ""
    }
   },
   "outputs": [],
   "source": [
    "display(\"sp_cid: \" + sp_cid)\n",
    "display(\"sp_tkn: \" + sp_tkn)\n",
    "display(\"ws_url: \" + ws_url)\n",
    "display(\"ac_url: \" + ac_url)\n",
    "display(\"ac_id: \"  + ac_id)"
   ]
  },
  {
   "cell_type": "markdown",
   "metadata": {
    "application/vnd.databricks.v1+cell": {
     "cellMetadata": {},
     "inputWidgets": {},
     "nuid": "7d147ad1-e25d-4023-a8d5-afb1538f86b4",
     "showTitle": false,
     "tableResultSettingsMap": {},
     "title": ""
    }
   },
   "source": [
    "### Account-level operations"
   ]
  },
  {
   "cell_type": "code",
   "execution_count": 0,
   "metadata": {
    "application/vnd.databricks.v1+cell": {
     "cellMetadata": {
      "byteLimit": 2048000,
      "rowLimit": 10000
     },
     "inputWidgets": {},
     "nuid": "763bc65c-b5ff-40ec-a8d3-666324835eff",
     "showTitle": false,
     "tableResultSettingsMap": {},
     "title": ""
    }
   },
   "outputs": [],
   "source": [
    "from databricks.sdk import AccountClient\n",
    "\n",
    "a = AccountClient(\n",
    "  host          = ac_url,\n",
    "  account_id    = ac_id,\n",
    "  client_id     = sp_cid,\n",
    "  client_secret = sp_tkn\n",
    ")"
   ]
  },
  {
   "cell_type": "markdown",
   "metadata": {
    "application/vnd.databricks.v1+cell": {
     "cellMetadata": {},
     "inputWidgets": {},
     "nuid": "ccc1ae86-dc8d-40d6-acc7-d9c037562d61",
     "showTitle": false,
     "tableResultSettingsMap": {},
     "title": ""
    }
   },
   "source": [
    "### Workspace-level operations"
   ]
  },
  {
   "cell_type": "code",
   "execution_count": 0,
   "metadata": {
    "application/vnd.databricks.v1+cell": {
     "cellMetadata": {
      "byteLimit": 2048000,
      "rowLimit": 10000
     },
     "inputWidgets": {},
     "nuid": "3364feff-1acd-49ce-b8f5-c4cd7aed697c",
     "showTitle": false,
     "tableResultSettingsMap": {},
     "title": ""
    }
   },
   "outputs": [],
   "source": [
    "from databricks.sdk import WorkspaceClient\n",
    "\n",
    "w = WorkspaceClient(\n",
    "  host          = ws_url,\n",
    "  client_id     = sp_cid,\n",
    "  client_secret = sp_tkn\n",
    ")"
   ]
  },
  {
   "cell_type": "markdown",
   "metadata": {
    "application/vnd.databricks.v1+cell": {
     "cellMetadata": {},
     "inputWidgets": {},
     "nuid": "f4ce8f94-1347-4525-ae52-8afc30579d1a",
     "showTitle": false,
     "tableResultSettingsMap": {},
     "title": ""
    }
   },
   "source": [
    "## Step 3: Use the Sdk - Marketplace API"
   ]
  },
  {
   "cell_type": "markdown",
   "metadata": {
    "application/vnd.databricks.v1+cell": {
     "cellMetadata": {},
     "inputWidgets": {},
     "nuid": "72d42750-6ba8-4c87-9b7d-d2753bfa514f",
     "showTitle": false,
     "tableResultSettingsMap": {},
     "title": ""
    }
   },
   "source": [
    "### Providers"
   ]
  },
  {
   "cell_type": "code",
   "execution_count": 0,
   "metadata": {
    "application/vnd.databricks.v1+cell": {
     "cellMetadata": {
      "byteLimit": 2048000,
      "rowLimit": 10000
     },
     "inputWidgets": {},
     "nuid": "f02faf4f-489b-4248-af0a-d672d61fe10e",
     "showTitle": false,
     "tableResultSettingsMap": {},
     "title": ""
    }
   },
   "outputs": [],
   "source": [
    "cp_list = list(w.consumer_providers.list())\n",
    "display(len(cp_list))"
   ]
  },
  {
   "cell_type": "code",
   "execution_count": 0,
   "metadata": {
    "application/vnd.databricks.v1+cell": {
     "cellMetadata": {
      "byteLimit": 2048000,
      "rowLimit": 10000
     },
     "inputWidgets": {},
     "nuid": "38c20b7a-87e2-4a1f-a1ec-11c7a8e986eb",
     "showTitle": false,
     "tableResultSettingsMap": {},
     "title": ""
    }
   },
   "outputs": [],
   "source": [
    "import json\n",
    "\n",
    "for cp in list(w.consumer_providers.list()):\n",
    "    print(json.dumps(cp.as_dict(), indent=2, ensure_ascii=False))"
   ]
  },
  {
   "cell_type": "code",
   "execution_count": 0,
   "metadata": {
    "application/vnd.databricks.v1+cell": {
     "cellMetadata": {
      "byteLimit": 2048000,
      "rowLimit": 10000
     },
     "inputWidgets": {},
     "nuid": "60e8e006-e7a2-4561-ad92-1566b84f81d2",
     "showTitle": false,
     "tableResultSettingsMap": {},
     "title": ""
    }
   },
   "outputs": [],
   "source": [
    "cp_dicts = [cp.as_dict() for cp in w.consumer_providers.list()]\n",
    "df = spark.createDataFrame(cp_dicts)\n",
    "display(df)"
   ]
  },
  {
   "cell_type": "code",
   "execution_count": 0,
   "metadata": {
    "application/vnd.databricks.v1+cell": {
     "cellMetadata": {
      "byteLimit": 2048000,
      "rowLimit": 10000
     },
     "inputWidgets": {},
     "nuid": "5ca35d34-41e5-406e-b319-aba7d0f10148",
     "showTitle": false,
     "tableResultSettingsMap": {},
     "title": ""
    }
   },
   "outputs": [],
   "source": [
    "df.createOrReplaceTempView(\"provider\")"
   ]
  },
  {
   "cell_type": "code",
   "execution_count": 0,
   "metadata": {
    "application/vnd.databricks.v1+cell": {
     "cellMetadata": {
      "byteLimit": 2048000,
      "implicitDf": true,
      "rowLimit": 10000
     },
     "inputWidgets": {},
     "nuid": "6f06b0a3-bf17-4519-b726-0d0dad1c0737",
     "showTitle": false,
     "tableResultSettingsMap": {},
     "title": ""
    }
   },
   "outputs": [],
   "source": [
    "%sql\n",
    "select * \n",
    "from provider\n",
    "where name = 'Databricks'\n"
   ]
  },
  {
   "cell_type": "markdown",
   "metadata": {
    "application/vnd.databricks.v1+cell": {
     "cellMetadata": {},
     "inputWidgets": {},
     "nuid": "6b9792b0-a328-4052-81cf-689a3ee5606b",
     "showTitle": false,
     "tableResultSettingsMap": {},
     "title": ""
    }
   },
   "source": [
    "### Listings"
   ]
  },
  {
   "cell_type": "code",
   "execution_count": 0,
   "metadata": {
    "application/vnd.databricks.v1+cell": {
     "cellMetadata": {
      "byteLimit": 2048000,
      "rowLimit": 10000
     },
     "inputWidgets": {},
     "nuid": "5fe56ae1-7342-4603-bcb1-fe8d13be31f2",
     "showTitle": false,
     "tableResultSettingsMap": {},
     "title": ""
    }
   },
   "outputs": [],
   "source": [
    "cl_list = list(w.consumer_listings.list())\n",
    "display(len(cl_list))"
   ]
  },
  {
   "cell_type": "code",
   "execution_count": 0,
   "metadata": {
    "application/vnd.databricks.v1+cell": {
     "cellMetadata": {
      "byteLimit": 2048000,
      "rowLimit": 10000
     },
     "inputWidgets": {},
     "nuid": "2c04fe2e-902a-4ecf-bdae-a0ed070a4fc1",
     "showTitle": false,
     "tableResultSettingsMap": {},
     "title": ""
    }
   },
   "outputs": [],
   "source": [
    "import json\n",
    "\n",
    "for cl in list(w.consumer_listings.list())[:2]:\n",
    "    print(json.dumps(cl.as_dict(), indent=2, ensure_ascii=False))"
   ]
  },
  {
   "cell_type": "code",
   "execution_count": 0,
   "metadata": {
    "application/vnd.databricks.v1+cell": {
     "cellMetadata": {
      "byteLimit": 2048000,
      "rowLimit": 10000
     },
     "inputWidgets": {},
     "nuid": "6dca2716-3b91-4b9f-841c-61e4999df28e",
     "showTitle": false,
     "tableResultSettingsMap": {},
     "title": ""
    }
   },
   "outputs": [],
   "source": [
    "import json\n",
    "\n",
    "cl_dicts = [\n",
    "    {\n",
    "        **cl.as_dict(),\n",
    "        \"detail\": json.dumps(cl.as_dict().get(\"detail\"), ensure_ascii=False),\n",
    "        \"summary\": json.dumps(cl.as_dict().get(\"summary\"), ensure_ascii=False)\n",
    "    }\n",
    "    for cl in w.consumer_listings.list()\n",
    "]\n",
    "df = spark.createDataFrame(cl_dicts)\n",
    "display(df)"
   ]
  },
  {
   "cell_type": "code",
   "execution_count": 0,
   "metadata": {
    "application/vnd.databricks.v1+cell": {
     "cellMetadata": {
      "byteLimit": 2048000,
      "rowLimit": 10000
     },
     "inputWidgets": {},
     "nuid": "b236e623-800b-41d3-a349-8618beced1fc",
     "showTitle": false,
     "tableResultSettingsMap": {
      "0": {
       "dataGridStateBlob": "{\"version\":1,\"tableState\":{\"columnPinning\":{\"left\":[\"#row_number#\"],\"right\":[]},\"columnSizing\":{},\"columnVisibility\":{}},\"settings\":{\"columns\":{}},\"syncTimestamp\":1760798942343}",
       "filterBlob": null,
       "queryPlanFiltersBlob": null,
       "tableResultIndex": 0
      }
     },
     "title": ""
    }
   },
   "outputs": [],
   "source": [
    "from pyspark.sql.types import (\n",
    "    StructType, StructField, StringType, ArrayType, DoubleType, LongType, MapType\n",
    ")\n",
    "\n",
    "detail_schema = StructType([\n",
    "    StructField(\"assets\", ArrayType(StringType()), True),\n",
    "    StructField(\"collection_date_end\", LongType(), True),\n",
    "    StructField(\"collection_date_start\", LongType(), True),\n",
    "    StructField(\"collection_granularity\", StructType([\n",
    "        StructField(\"interval\", LongType(), True),\n",
    "        StructField(\"unit\", StringType(), True)\n",
    "    ]), True),\n",
    "    StructField(\"cost\", StringType(), True),\n",
    "    StructField(\"data_source\", StringType(), True),\n",
    "    StructField(\"description\", StringType(), True),\n",
    "    StructField(\"documentation_link\", StringType(), True),\n",
    "    StructField(\"embedded_notebook_file_infos\", ArrayType(StructType([\n",
    "        StructField(\"created_at\", LongType(), True),\n",
    "        StructField(\"display_name\", StringType(), True),\n",
    "        StructField(\"download_link\", StringType(), True),\n",
    "        StructField(\"file_parent\", StructType([\n",
    "            StructField(\"file_parent_type\", StringType(), True),\n",
    "            StructField(\"parent_id\", StringType(), True)\n",
    "        ]), True),\n",
    "        StructField(\"id\", StringType(), True),\n",
    "        StructField(\"marketplace_file_type\", StringType(), True),\n",
    "        StructField(\"mime_type\", StringType(), True),\n",
    "        StructField(\"status\", StringType(), True),\n",
    "        StructField(\"status_message\", StringType(), True),\n",
    "        StructField(\"updated_at\", LongType(), True)\n",
    "    ])), True),\n",
    "    StructField(\"file_ids\", ArrayType(StringType()), True),\n",
    "    StructField(\"geographical_coverage\", StringType(), True),\n",
    "    StructField(\"license\", StringType(), True),\n",
    "    StructField(\"pricing_model\", StringType(), True),\n",
    "    StructField(\"privacy_policy_link\", StringType(), True),\n",
    "    StructField(\"size\", DoubleType(), True),\n",
    "    StructField(\"support_link\", StringType(), True),\n",
    "    StructField(\"tags\", ArrayType(StructType([\n",
    "        StructField(\"tag_name\", StringType(), True),\n",
    "        StructField(\"tag_values\", ArrayType(StringType()), True)\n",
    "    ])), True),\n",
    "    StructField(\"terms_of_service\", StringType(), True),\n",
    "    StructField(\"update_frequency\", StructType([\n",
    "        StructField(\"interval\", LongType(), True),\n",
    "        StructField(\"unit\", StringType(), True)\n",
    "    ]), True)\n",
    "])\n",
    "\n",
    "summary_schema = StructType([\n",
    "    StructField(\"categories\", ArrayType(StringType()), True),\n",
    "    StructField(\"created_at\", LongType(), True),\n",
    "    StructField(\"created_by\", StringType(), True),\n",
    "    StructField(\"created_by_id\", LongType(), True),\n",
    "    StructField(\"exchange_ids\", ArrayType(StringType()), True),\n",
    "    StructField(\"git_repo\", StructType([\n",
    "        StructField(\"git_repo_url\", StringType(), True)\n",
    "    ]), True),\n",
    "    StructField(\"listingType\", StringType(), True),\n",
    "    StructField(\"name\", StringType(), True),\n",
    "    StructField(\"provider_id\", StringType(), True),\n",
    "    StructField(\"provider_region\", StructType([\n",
    "        StructField(\"cloud\", StringType(), True),\n",
    "        StructField(\"region\", StringType(), True)\n",
    "    ]), True),\n",
    "    StructField(\"published_at\", LongType(), True),\n",
    "    StructField(\"published_by\", StringType(), True),\n",
    "    StructField(\"setting\", StructType([\n",
    "        StructField(\"visibility\", StringType(), True)\n",
    "    ]), True),\n",
    "    StructField(\"share\", StructType([\n",
    "        StructField(\"name\", StringType(), True),\n",
    "        StructField(\"type\", StringType(), True)\n",
    "    ]), True),\n",
    "    StructField(\"status\", StringType(), True),\n",
    "    StructField(\"subtitle\", StringType(), True),\n",
    "    StructField(\"updated_at\", LongType(), True),\n",
    "    StructField(\"updated_by\", StringType(), True),\n",
    "    StructField(\"updated_by_id\", LongType(), True)\n",
    "])\n",
    "\n",
    "schema = StructType([\n",
    "    StructField(\"id\", StringType(), True),\n",
    "    StructField(\"detail\", detail_schema, True),\n",
    "    StructField(\"summary\", summary_schema, True)\n",
    "])\n",
    "\n",
    "cl_dicts = [\n",
    "    {\n",
    "        \"id\": cl.as_dict().get(\"id\"),\n",
    "        \"detail\": cl.as_dict().get(\"detail\"),\n",
    "        \"summary\": cl.as_dict().get(\"summary\")\n",
    "    }\n",
    "    for cl in w.consumer_listings.list()\n",
    "]\n",
    "\n",
    "df = spark.createDataFrame(cl_dicts, schema=schema)\n",
    "display(df)"
   ]
  },
  {
   "cell_type": "code",
   "execution_count": 0,
   "metadata": {
    "application/vnd.databricks.v1+cell": {
     "cellMetadata": {
      "byteLimit": 2048000,
      "rowLimit": 10000
     },
     "inputWidgets": {},
     "nuid": "a54c9fea-9064-43ca-bb87-cd6a7d851498",
     "showTitle": false,
     "tableResultSettingsMap": {},
     "title": ""
    }
   },
   "outputs": [],
   "source": [
    "df.createOrReplaceTempView(\"listing\")"
   ]
  },
  {
   "cell_type": "code",
   "execution_count": 0,
   "metadata": {
    "application/vnd.databricks.v1+cell": {
     "cellMetadata": {
      "byteLimit": 2048000,
      "implicitDf": true,
      "rowLimit": 10000
     },
     "inputWidgets": {},
     "nuid": "4a6290f6-f32b-41c0-b56f-b760a16179d6",
     "showTitle": false,
     "tableResultSettingsMap": {
      "0": {
       "dataGridStateBlob": "{\"version\":1,\"tableState\":{\"columnPinning\":{\"left\":[\"#row_number#\"],\"right\":[]},\"columnSizing\":{},\"columnVisibility\":{}},\"settings\":{\"columns\":{}},\"syncTimestamp\":1760799687422}",
       "filterBlob": null,
       "queryPlanFiltersBlob": null,
       "tableResultIndex": 0
      }
     },
     "title": ""
    }
   },
   "outputs": [],
   "source": [
    "%sql\n",
    "select *\n",
    "from listing\n",
    "where summary.provider_id = 'ea1e69ff-0127-4c94-bf39-e841fe1d19d2'\n",
    "  and contains(summary.name, 'Simulated Retail Customer Data')\n"
   ]
  },
  {
   "cell_type": "markdown",
   "metadata": {
    "application/vnd.databricks.v1+cell": {
     "cellMetadata": {},
     "inputWidgets": {},
     "nuid": "a5107225-5439-421d-b503-20717007c177",
     "showTitle": false,
     "tableResultSettingsMap": {},
     "title": ""
    }
   },
   "source": [
    "### Fullfilments"
   ]
  },
  {
   "cell_type": "code",
   "execution_count": 0,
   "metadata": {
    "application/vnd.databricks.v1+cell": {
     "cellMetadata": {
      "byteLimit": 2048000,
      "rowLimit": 10000
     },
     "inputWidgets": {},
     "nuid": "5813db91-f5fd-45fd-aaf8-8d670971af31",
     "showTitle": false,
     "tableResultSettingsMap": {},
     "title": ""
    }
   },
   "outputs": [],
   "source": [
    "cf_list = list(w.consumer_fulfillments.list(listing_id='a82597f6-5ada-49d5-b934-d6c9dece16a1'))\n",
    "display(len(cf_list))"
   ]
  },
  {
   "cell_type": "code",
   "execution_count": 0,
   "metadata": {
    "application/vnd.databricks.v1+cell": {
     "cellMetadata": {
      "byteLimit": 2048000,
      "rowLimit": 10000
     },
     "inputWidgets": {},
     "nuid": "2ba1052e-b612-48dc-97fd-4811d62e07f7",
     "showTitle": false,
     "tableResultSettingsMap": {},
     "title": ""
    }
   },
   "outputs": [],
   "source": [
    "import json\n",
    "\n",
    "for cf in list(w.consumer_fulfillments.list(listing_id='a82597f6-5ada-49d5-b934-d6c9dece16a1')):\n",
    "    print(json.dumps(cf.as_dict(), indent=2, ensure_ascii=False))"
   ]
  },
  {
   "cell_type": "code",
   "execution_count": 0,
   "metadata": {
    "application/vnd.databricks.v1+cell": {
     "cellMetadata": {
      "byteLimit": 2048000,
      "rowLimit": 10000
     },
     "inputWidgets": {},
     "nuid": "36d309a6-a969-455f-930f-eb902a60f505",
     "showTitle": false,
     "tableResultSettingsMap": {},
     "title": ""
    }
   },
   "outputs": [],
   "source": [
    "import json\n",
    "\n",
    "for cf in list(w.consumer_fulfillments.get(listing_id='a82597f6-5ada-49d5-b934-d6c9dece16a1')):\n",
    "    print(json.dumps(cf.as_dict(), indent=2, ensure_ascii=False))"
   ]
  },
  {
   "cell_type": "markdown",
   "metadata": {
    "application/vnd.databricks.v1+cell": {
     "cellMetadata": {},
     "inputWidgets": {},
     "nuid": "ea984231-ead1-4a4f-b925-fa152d25b52e",
     "showTitle": false,
     "tableResultSettingsMap": {},
     "title": ""
    }
   },
   "source": [
    "### Installations"
   ]
  },
  {
   "cell_type": "code",
   "execution_count": 0,
   "metadata": {
    "application/vnd.databricks.v1+cell": {
     "cellMetadata": {
      "byteLimit": 2048000,
      "rowLimit": 10000
     },
     "inputWidgets": {},
     "nuid": "3d8440f4-f80c-48a6-9e2d-8ea7ade989a1",
     "showTitle": false,
     "tableResultSettingsMap": {},
     "title": ""
    }
   },
   "outputs": [],
   "source": [
    "import pandas as pd\n",
    "\n",
    "ids = [row['id'] for row in df.select(\"id\").collect()]\n",
    "results = []\n",
    "\n",
    "for listing_id in ids:\n",
    "    try:\n",
    "        fulfillments = w.consumer_fulfillments.get(listing_id=listing_id)\n",
    "        for f in fulfillments:\n",
    "            d = f.as_dict()\n",
    "            d['listing_id'] = listing_id\n",
    "            results.append(d)\n",
    "    except Exception as e:\n",
    "        results.append({'listing_id': listing_id, 'error': str(e)})\n",
    "\n",
    "result_df = spark.createDataFrame(pd.DataFrame(results))\n",
    "display(result_df)"
   ]
  },
  {
   "cell_type": "code",
   "execution_count": 0,
   "metadata": {
    "application/vnd.databricks.v1+cell": {
     "cellMetadata": {
      "byteLimit": 2048000,
      "rowLimit": 10000
     },
     "inputWidgets": {},
     "nuid": "ef0c628d-1d14-4fa3-ac1b-10a763f3e379",
     "showTitle": false,
     "tableResultSettingsMap": {},
     "title": ""
    }
   },
   "outputs": [],
   "source": [
    "import pandas as pd\n",
    "from pyspark.sql.types import StructType, StructField, StringType\n",
    "\n",
    "ids = [row['id'] for row in df.filter(df['summary.provider_id'] == \"ea1e69ff-0127-4c94-bf39-e841fe1d19d2\").select(\"id\").collect()]\n",
    "results = []\n",
    "\n",
    "for listing_id in ids:\n",
    "    try:\n",
    "        fulfillments = w.consumer_fulfillments.get(listing_id=listing_id)\n",
    "        for f in fulfillments:\n",
    "            d = f.as_dict()\n",
    "            d['listing_id'] = listing_id\n",
    "            results.append(d)\n",
    "    except Exception as e:\n",
    "        results.append({'listing_id': listing_id, 'error': str(e)})\n",
    "\n",
    "if results:\n",
    "    result_df = spark.createDataFrame(pd.DataFrame(results))\n",
    "else:\n",
    "    schema = StructType([\n",
    "        StructField(\"data_object_type\", StringType(), True),\n",
    "        StructField(\"name\", StringType(), True),\n",
    "        StructField(\"listing_id\", StringType(), True)\n",
    "    ])\n",
    "    result_df = spark.createDataFrame([], schema)\n",
    "\n",
    "display(result_df)\n",
    "result_df.printSchema()"
   ]
  },
  {
   "cell_type": "code",
   "execution_count": 0,
   "metadata": {
    "application/vnd.databricks.v1+cell": {
     "cellMetadata": {
      "byteLimit": 2048000,
      "rowLimit": 10000
     },
     "inputWidgets": {},
     "nuid": "1a240197-26cb-40b9-a857-521e3f594ea3",
     "showTitle": false,
     "tableResultSettingsMap": {},
     "title": ""
    }
   },
   "outputs": [],
   "source": [
    "result_df.createOrReplaceTempView(\"asset\")"
   ]
  },
  {
   "cell_type": "code",
   "execution_count": 0,
   "metadata": {
    "application/vnd.databricks.v1+cell": {
     "cellMetadata": {
      "byteLimit": 2048000,
      "implicitDf": true,
      "rowLimit": 10000
     },
     "inputWidgets": {},
     "nuid": "840d3b91-3473-49c6-9966-6c445538f287",
     "showTitle": false,
     "tableResultSettingsMap": {
      "0": {
       "dataGridStateBlob": "{\"version\":1,\"tableState\":{\"columnPinning\":{\"left\":[\"#row_number#\"],\"right\":[]},\"columnSizing\":{},\"columnVisibility\":{}},\"settings\":{\"columns\":{}},\"syncTimestamp\":1760802959184}",
       "filterBlob": null,
       "queryPlanFiltersBlob": null,
       "tableResultIndex": 0
      }
     },
     "title": ""
    }
   },
   "outputs": [],
   "source": [
    "%sql\n",
    "select l.id, \n",
    "       count(*) as num_asset\n",
    "from asset a\n",
    "inner join listing l\n",
    " on a.listing_id = l.id\n",
    "group by l.id\n",
    "order by num_asset desc"
   ]
  },
  {
   "cell_type": "code",
   "execution_count": 0,
   "metadata": {
    "application/vnd.databricks.v1+cell": {
     "cellMetadata": {
      "byteLimit": 2048000,
      "implicitDf": true,
      "rowLimit": 10000
     },
     "inputWidgets": {},
     "nuid": "b0848e03-d1aa-44c9-9a11-d67add0c873e",
     "showTitle": false,
     "tableResultSettingsMap": {},
     "title": ""
    }
   },
   "outputs": [],
   "source": [
    "%sql\n",
    "select *\n",
    "from listing\n",
    "where id = 'eda83e49-e8f2-466c-94ef-d4aef4f6d7ec'"
   ]
  },
  {
   "cell_type": "code",
   "execution_count": 0,
   "metadata": {
    "application/vnd.databricks.v1+cell": {
     "cellMetadata": {},
     "inputWidgets": {},
     "nuid": "c9695ea9-f9df-4f24-956e-75b681d8359f",
     "showTitle": false,
     "tableResultSettingsMap": {},
     "title": ""
    }
   },
   "outputs": [],
   "source": []
  }
 ],
 "metadata": {
  "application/vnd.databricks.v1+notebook": {
   "computePreferences": {
    "hardware": {
     "accelerator": null,
     "gpuPoolId": null,
     "memory": null
    }
   },
   "dashboards": [],
   "environmentMetadata": {
    "base_environment": "",
    "environment_version": "2"
   },
   "inputWidgetPreferences": null,
   "language": "python",
   "notebookMetadata": {
    "mostRecentlyExecutedCommandWithImplicitDF": {
     "commandId": 6935194848586525,
     "dataframes": [
      "_sqldf"
     ]
    },
    "pythonIndentUnit": 4,
    "widgetLayout": []
   },
   "notebookName": "03 - sdk python - marketplace",
   "widgets": {
    "account_id": {
     "currentValue": "ccb842e7-2376-4152-b0b0-29fa952379b8",
     "nuid": "bbc0dad0-b36c-4992-bd10-d3378b819fba",
     "typedWidgetInfo": {
      "autoCreated": false,
      "defaultValue": "",
      "label": null,
      "name": "account_id",
      "options": {
       "widgetDisplayType": "Text",
       "validationRegex": null
      },
      "parameterDataType": "String"
     },
     "widgetInfo": {
      "widgetType": "text",
      "defaultValue": "",
      "label": null,
      "name": "account_id",
      "options": {
       "widgetType": "text",
       "autoCreated": null,
       "validationRegex": null
      }
     }
    },
    "client_id": {
     "currentValue": "",
     "nuid": "56501a18-a06d-40fb-a461-36f2cb5520e0",
     "typedWidgetInfo": {
      "autoCreated": false,
      "defaultValue": "",
      "label": null,
      "name": "client_id",
      "options": {
       "widgetDisplayType": "Text",
       "validationRegex": null
      },
      "parameterDataType": "String"
     },
     "widgetInfo": {
      "widgetType": "text",
      "defaultValue": "",
      "label": null,
      "name": "client_id",
      "options": {
       "widgetType": "text",
       "autoCreated": false,
       "validationRegex": null
      }
     }
    },
    "token": {
     "currentValue": "",
     "nuid": "76dc18a8-138b-4f3a-8c5d-fe2bef26666c",
     "typedWidgetInfo": {
      "autoCreated": false,
      "defaultValue": "",
      "label": null,
      "name": "token",
      "options": {
       "widgetDisplayType": "Text",
       "validationRegex": null
      },
      "parameterDataType": "String"
     },
     "widgetInfo": {
      "widgetType": "text",
      "defaultValue": "",
      "label": null,
      "name": "token",
      "options": {
       "widgetType": "text",
       "autoCreated": false,
       "validationRegex": null
      }
     }
    }
   }
  },
  "language_info": {
   "name": "python"
  }
 },
 "nbformat": 4,
 "nbformat_minor": 0
}
